{
 "cells": [
  {
   "cell_type": "markdown",
   "id": "71bbc36c",
   "metadata": {},
   "source": [
    "# Problem Statement \n",
    "\n",
    "Company wants to automate loan eligibility process(real time) based on customer detail provided while filling the application form.These details are Loan_ID,Gender,Married,Dependents,Education,Self_Employed,ApplicantIncome,CoapplicantIncome,Loan_Amount,\n",
    "Loan_Amount_Term,Credit History,Property_Area,To automate this process,they have given a problem to identify cudtomer segments,those are eligible for loan,so that they specifically target those customers. \n",
    "                        Since Loan status is Y or N,So it is a classification problem. \n",
    "\n"
   ]
  },
  {
   "cell_type": "code",
   "execution_count": 1,
   "id": "ffd8f98a",
   "metadata": {},
   "outputs": [],
   "source": [
    "## importing necessary libraries:\n",
    "import pandas as pd\n",
    "import numpy as np\n",
    "import matplotlib.pyplot as plt\n",
    "import seaborn as sns\n",
    "import warnings\n",
    "warnings.filterwarnings(\"ignore\")"
   ]
  },
  {
   "cell_type": "code",
   "execution_count": 2,
   "id": "90a140fe",
   "metadata": {},
   "outputs": [],
   "source": [
    "## loading csv file\n",
    "loan_df = pd.read_csv(\"C:/Users/swati/Downloads/DSData-master/DSData-master/loan_prediction.csv\")"
   ]
  },
  {
   "cell_type": "code",
   "execution_count": 3,
   "id": "b7b9cf71",
   "metadata": {},
   "outputs": [
    {
     "data": {
      "text/html": [
       "<div>\n",
       "<style scoped>\n",
       "    .dataframe tbody tr th:only-of-type {\n",
       "        vertical-align: middle;\n",
       "    }\n",
       "\n",
       "    .dataframe tbody tr th {\n",
       "        vertical-align: top;\n",
       "    }\n",
       "\n",
       "    .dataframe thead th {\n",
       "        text-align: right;\n",
       "    }\n",
       "</style>\n",
       "<table border=\"1\" class=\"dataframe\">\n",
       "  <thead>\n",
       "    <tr style=\"text-align: right;\">\n",
       "      <th></th>\n",
       "      <th>Loan_ID</th>\n",
       "      <th>Gender</th>\n",
       "      <th>Married</th>\n",
       "      <th>Dependents</th>\n",
       "      <th>Education</th>\n",
       "      <th>Self_Employed</th>\n",
       "      <th>ApplicantIncome</th>\n",
       "      <th>CoapplicantIncome</th>\n",
       "      <th>LoanAmount</th>\n",
       "      <th>Loan_Amount_Term</th>\n",
       "      <th>Credit_History</th>\n",
       "      <th>Property_Area</th>\n",
       "      <th>Loan_Status</th>\n",
       "    </tr>\n",
       "  </thead>\n",
       "  <tbody>\n",
       "    <tr>\n",
       "      <th>0</th>\n",
       "      <td>LP001002</td>\n",
       "      <td>Male</td>\n",
       "      <td>No</td>\n",
       "      <td>0</td>\n",
       "      <td>Graduate</td>\n",
       "      <td>No</td>\n",
       "      <td>5849</td>\n",
       "      <td>0.0</td>\n",
       "      <td>NaN</td>\n",
       "      <td>360.0</td>\n",
       "      <td>1.0</td>\n",
       "      <td>Urban</td>\n",
       "      <td>Y</td>\n",
       "    </tr>\n",
       "    <tr>\n",
       "      <th>1</th>\n",
       "      <td>LP001003</td>\n",
       "      <td>Male</td>\n",
       "      <td>Yes</td>\n",
       "      <td>1</td>\n",
       "      <td>Graduate</td>\n",
       "      <td>No</td>\n",
       "      <td>4583</td>\n",
       "      <td>1508.0</td>\n",
       "      <td>128.0</td>\n",
       "      <td>360.0</td>\n",
       "      <td>1.0</td>\n",
       "      <td>Rural</td>\n",
       "      <td>N</td>\n",
       "    </tr>\n",
       "    <tr>\n",
       "      <th>2</th>\n",
       "      <td>LP001005</td>\n",
       "      <td>Male</td>\n",
       "      <td>Yes</td>\n",
       "      <td>0</td>\n",
       "      <td>Graduate</td>\n",
       "      <td>Yes</td>\n",
       "      <td>3000</td>\n",
       "      <td>0.0</td>\n",
       "      <td>66.0</td>\n",
       "      <td>360.0</td>\n",
       "      <td>1.0</td>\n",
       "      <td>Urban</td>\n",
       "      <td>Y</td>\n",
       "    </tr>\n",
       "    <tr>\n",
       "      <th>3</th>\n",
       "      <td>LP001006</td>\n",
       "      <td>Male</td>\n",
       "      <td>Yes</td>\n",
       "      <td>0</td>\n",
       "      <td>Not Graduate</td>\n",
       "      <td>No</td>\n",
       "      <td>2583</td>\n",
       "      <td>2358.0</td>\n",
       "      <td>120.0</td>\n",
       "      <td>360.0</td>\n",
       "      <td>1.0</td>\n",
       "      <td>Urban</td>\n",
       "      <td>Y</td>\n",
       "    </tr>\n",
       "    <tr>\n",
       "      <th>4</th>\n",
       "      <td>LP001008</td>\n",
       "      <td>Male</td>\n",
       "      <td>No</td>\n",
       "      <td>0</td>\n",
       "      <td>Graduate</td>\n",
       "      <td>No</td>\n",
       "      <td>6000</td>\n",
       "      <td>0.0</td>\n",
       "      <td>141.0</td>\n",
       "      <td>360.0</td>\n",
       "      <td>1.0</td>\n",
       "      <td>Urban</td>\n",
       "      <td>Y</td>\n",
       "    </tr>\n",
       "  </tbody>\n",
       "</table>\n",
       "</div>"
      ],
      "text/plain": [
       "    Loan_ID Gender Married Dependents     Education Self_Employed  \\\n",
       "0  LP001002   Male      No          0      Graduate            No   \n",
       "1  LP001003   Male     Yes          1      Graduate            No   \n",
       "2  LP001005   Male     Yes          0      Graduate           Yes   \n",
       "3  LP001006   Male     Yes          0  Not Graduate            No   \n",
       "4  LP001008   Male      No          0      Graduate            No   \n",
       "\n",
       "   ApplicantIncome  CoapplicantIncome  LoanAmount  Loan_Amount_Term  \\\n",
       "0             5849                0.0         NaN             360.0   \n",
       "1             4583             1508.0       128.0             360.0   \n",
       "2             3000                0.0        66.0             360.0   \n",
       "3             2583             2358.0       120.0             360.0   \n",
       "4             6000                0.0       141.0             360.0   \n",
       "\n",
       "   Credit_History Property_Area Loan_Status  \n",
       "0             1.0         Urban           Y  \n",
       "1             1.0         Rural           N  \n",
       "2             1.0         Urban           Y  \n",
       "3             1.0         Urban           Y  \n",
       "4             1.0         Urban           Y  "
      ]
     },
     "execution_count": 3,
     "metadata": {},
     "output_type": "execute_result"
    }
   ],
   "source": [
    "loan_df.head()"
   ]
  },
  {
   "cell_type": "code",
   "execution_count": 4,
   "id": "667af2a5",
   "metadata": {},
   "outputs": [
    {
     "data": {
      "text/plain": [
       "(614, 13)"
      ]
     },
     "execution_count": 4,
     "metadata": {},
     "output_type": "execute_result"
    }
   ],
   "source": [
    "loan_df.shape"
   ]
  },
  {
   "cell_type": "markdown",
   "id": "f01e18cf",
   "metadata": {},
   "source": [
    "There are 614 rows and 13 columns."
   ]
  },
  {
   "cell_type": "code",
   "execution_count": 5,
   "id": "b7401443",
   "metadata": {},
   "outputs": [
    {
     "data": {
      "text/plain": [
       "Index(['Loan_ID', 'Gender', 'Married', 'Dependents', 'Education',\n",
       "       'Self_Employed', 'ApplicantIncome', 'CoapplicantIncome', 'LoanAmount',\n",
       "       'Loan_Amount_Term', 'Credit_History', 'Property_Area', 'Loan_Status'],\n",
       "      dtype='object')"
      ]
     },
     "execution_count": 5,
     "metadata": {},
     "output_type": "execute_result"
    }
   ],
   "source": [
    "## Checking columns name:-\n",
    "loan_df.columns"
   ]
  },
  {
   "cell_type": "code",
   "execution_count": 6,
   "id": "a228800e",
   "metadata": {},
   "outputs": [
    {
     "data": {
      "text/plain": [
       "Loan_ID               object\n",
       "Gender                object\n",
       "Married               object\n",
       "Dependents            object\n",
       "Education             object\n",
       "Self_Employed         object\n",
       "ApplicantIncome        int64\n",
       "CoapplicantIncome    float64\n",
       "LoanAmount           float64\n",
       "Loan_Amount_Term     float64\n",
       "Credit_History       float64\n",
       "Property_Area         object\n",
       "Loan_Status           object\n",
       "dtype: object"
      ]
     },
     "execution_count": 6,
     "metadata": {},
     "output_type": "execute_result"
    }
   ],
   "source": [
    "loan_df.dtypes"
   ]
  },
  {
   "cell_type": "code",
   "execution_count": 9,
   "id": "7d70a2de",
   "metadata": {},
   "outputs": [],
   "source": [
    "## Categorical columns list:\n",
    "Loan_ID,Gender,Married,Dependents,Education,Self_Employed,Credit_History,Property_Area,Loan_Status\n",
    "## Numerical Column list:\n",
    "ApplicantIncome,CoapplicantIncome,LoanAmount,Loan_Amount_Term"
   ]
  },
  {
   "cell_type": "code",
   "execution_count": 7,
   "id": "0bf0d1e7",
   "metadata": {},
   "outputs": [
    {
     "name": "stdout",
     "output_type": "stream",
     "text": [
      "<class 'pandas.core.frame.DataFrame'>\n",
      "RangeIndex: 614 entries, 0 to 613\n",
      "Data columns (total 13 columns):\n",
      " #   Column             Non-Null Count  Dtype  \n",
      "---  ------             --------------  -----  \n",
      " 0   Loan_ID            614 non-null    object \n",
      " 1   Gender             601 non-null    object \n",
      " 2   Married            611 non-null    object \n",
      " 3   Dependents         599 non-null    object \n",
      " 4   Education          614 non-null    object \n",
      " 5   Self_Employed      582 non-null    object \n",
      " 6   ApplicantIncome    614 non-null    int64  \n",
      " 7   CoapplicantIncome  614 non-null    float64\n",
      " 8   LoanAmount         592 non-null    float64\n",
      " 9   Loan_Amount_Term   600 non-null    float64\n",
      " 10  Credit_History     564 non-null    float64\n",
      " 11  Property_Area      614 non-null    object \n",
      " 12  Loan_Status        614 non-null    object \n",
      "dtypes: float64(4), int64(1), object(8)\n",
      "memory usage: 62.5+ KB\n"
     ]
    }
   ],
   "source": [
    "loan_df.info()"
   ]
  },
  {
   "cell_type": "markdown",
   "id": "d1721d1e",
   "metadata": {},
   "source": [
    "We can see Gender,Married,Dependents,Self_Employed,LoanAmount,Loan_Amount_Term,Credit_History columns has missing values."
   ]
  },
  {
   "cell_type": "code",
   "execution_count": 8,
   "id": "87d30748",
   "metadata": {},
   "outputs": [
    {
     "data": {
      "text/plain": [
       "Loan_ID               0\n",
       "Gender               13\n",
       "Married               3\n",
       "Dependents           15\n",
       "Education             0\n",
       "Self_Employed        32\n",
       "ApplicantIncome       0\n",
       "CoapplicantIncome     0\n",
       "LoanAmount           22\n",
       "Loan_Amount_Term     14\n",
       "Credit_History       50\n",
       "Property_Area         0\n",
       "Loan_Status           0\n",
       "dtype: int64"
      ]
     },
     "execution_count": 8,
     "metadata": {},
     "output_type": "execute_result"
    }
   ],
   "source": [
    "## Again recheck missing values:\n",
    "loan_df.isnull().sum()"
   ]
  },
  {
   "cell_type": "markdown",
   "id": "3d016998",
   "metadata": {},
   "source": [
    "1.There are 13 missing values in Gender column.\n",
    "2.There are 3 missing values in Married column.\n",
    "3.There are 15 missing values in Dependents column.\n",
    "4.There are 32 missing values in Self_Employed column.\n",
    "5.There are 22 missing values in LoanAmount column.\n",
    "6.There are 14 missing values in Loan_Amount_Term column.\n",
    "7.There are 50 missing values in Credit_History column.\n"
   ]
  },
  {
   "cell_type": "code",
   "execution_count": 9,
   "id": "edbd213c",
   "metadata": {},
   "outputs": [
    {
     "data": {
      "text/html": [
       "<div>\n",
       "<style scoped>\n",
       "    .dataframe tbody tr th:only-of-type {\n",
       "        vertical-align: middle;\n",
       "    }\n",
       "\n",
       "    .dataframe tbody tr th {\n",
       "        vertical-align: top;\n",
       "    }\n",
       "\n",
       "    .dataframe thead th {\n",
       "        text-align: right;\n",
       "    }\n",
       "</style>\n",
       "<table border=\"1\" class=\"dataframe\">\n",
       "  <thead>\n",
       "    <tr style=\"text-align: right;\">\n",
       "      <th></th>\n",
       "      <th>ApplicantIncome</th>\n",
       "      <th>CoapplicantIncome</th>\n",
       "      <th>LoanAmount</th>\n",
       "      <th>Loan_Amount_Term</th>\n",
       "      <th>Credit_History</th>\n",
       "    </tr>\n",
       "  </thead>\n",
       "  <tbody>\n",
       "    <tr>\n",
       "      <th>count</th>\n",
       "      <td>614.000000</td>\n",
       "      <td>614.000000</td>\n",
       "      <td>592.000000</td>\n",
       "      <td>600.00000</td>\n",
       "      <td>564.000000</td>\n",
       "    </tr>\n",
       "    <tr>\n",
       "      <th>mean</th>\n",
       "      <td>5403.459283</td>\n",
       "      <td>1621.245798</td>\n",
       "      <td>146.412162</td>\n",
       "      <td>342.00000</td>\n",
       "      <td>0.842199</td>\n",
       "    </tr>\n",
       "    <tr>\n",
       "      <th>std</th>\n",
       "      <td>6109.041673</td>\n",
       "      <td>2926.248369</td>\n",
       "      <td>85.587325</td>\n",
       "      <td>65.12041</td>\n",
       "      <td>0.364878</td>\n",
       "    </tr>\n",
       "    <tr>\n",
       "      <th>min</th>\n",
       "      <td>150.000000</td>\n",
       "      <td>0.000000</td>\n",
       "      <td>9.000000</td>\n",
       "      <td>12.00000</td>\n",
       "      <td>0.000000</td>\n",
       "    </tr>\n",
       "    <tr>\n",
       "      <th>25%</th>\n",
       "      <td>2877.500000</td>\n",
       "      <td>0.000000</td>\n",
       "      <td>100.000000</td>\n",
       "      <td>360.00000</td>\n",
       "      <td>1.000000</td>\n",
       "    </tr>\n",
       "    <tr>\n",
       "      <th>50%</th>\n",
       "      <td>3812.500000</td>\n",
       "      <td>1188.500000</td>\n",
       "      <td>128.000000</td>\n",
       "      <td>360.00000</td>\n",
       "      <td>1.000000</td>\n",
       "    </tr>\n",
       "    <tr>\n",
       "      <th>75%</th>\n",
       "      <td>5795.000000</td>\n",
       "      <td>2297.250000</td>\n",
       "      <td>168.000000</td>\n",
       "      <td>360.00000</td>\n",
       "      <td>1.000000</td>\n",
       "    </tr>\n",
       "    <tr>\n",
       "      <th>max</th>\n",
       "      <td>81000.000000</td>\n",
       "      <td>41667.000000</td>\n",
       "      <td>700.000000</td>\n",
       "      <td>480.00000</td>\n",
       "      <td>1.000000</td>\n",
       "    </tr>\n",
       "  </tbody>\n",
       "</table>\n",
       "</div>"
      ],
      "text/plain": [
       "       ApplicantIncome  CoapplicantIncome  LoanAmount  Loan_Amount_Term  \\\n",
       "count       614.000000         614.000000  592.000000         600.00000   \n",
       "mean       5403.459283        1621.245798  146.412162         342.00000   \n",
       "std        6109.041673        2926.248369   85.587325          65.12041   \n",
       "min         150.000000           0.000000    9.000000          12.00000   \n",
       "25%        2877.500000           0.000000  100.000000         360.00000   \n",
       "50%        3812.500000        1188.500000  128.000000         360.00000   \n",
       "75%        5795.000000        2297.250000  168.000000         360.00000   \n",
       "max       81000.000000       41667.000000  700.000000         480.00000   \n",
       "\n",
       "       Credit_History  \n",
       "count      564.000000  \n",
       "mean         0.842199  \n",
       "std          0.364878  \n",
       "min          0.000000  \n",
       "25%          1.000000  \n",
       "50%          1.000000  \n",
       "75%          1.000000  \n",
       "max          1.000000  "
      ]
     },
     "execution_count": 9,
     "metadata": {},
     "output_type": "execute_result"
    }
   ],
   "source": [
    "loan_df.describe()"
   ]
  },
  {
   "cell_type": "markdown",
   "id": "136b9fb9",
   "metadata": {},
   "source": [
    "From Describe method statistics we can see that missing values and outliers are present in data set."
   ]
  },
  {
   "cell_type": "code",
   "execution_count": null,
   "id": "1439fb5b",
   "metadata": {},
   "outputs": [],
   "source": [
    "## Filling missing values:-"
   ]
  },
  {
   "cell_type": "markdown",
   "id": "e67e4c59",
   "metadata": {},
   "source": [
    "First Let us check, if outliers are present in numerical column then will use median for filling missing values,otherwise mean."
   ]
  },
  {
   "cell_type": "code",
   "execution_count": 10,
   "id": "ccc8b261",
   "metadata": {},
   "outputs": [
    {
     "data": {
      "image/png": "[encoded data removed]",
      "text/plain": [
       "<Figure size 432x288 with 1 Axes>"
      ]
     },
     "metadata": {
      "needs_background": "light"
     },
     "output_type": "display_data"
    },
    {
     "data": {
      "image/png": "[encoded data removed]",
      "text/plain": [
       "<Figure size 432x288 with 1 Axes>"
      ]
     },
     "metadata": {
      "needs_background": "light"
     },
     "output_type": "display_data"
    },
    {
     "data": {
      "image/png": "[encoded data removed]",
      "text/plain": [
       "<Figure size 432x288 with 1 Axes>"
      ]
     },
     "metadata": {
      "needs_background": "light"
     },
     "output_type": "display_data"
    },
    {
     "data": {
      "image/png": "[encoded data removed]",
      "text/plain": [
       "<Figure size 432x288 with 1 Axes>"
      ]
     },
     "metadata": {
      "needs_background": "light"
     },
     "output_type": "display_data"
    },
    {
     "data": {
      "image/png": "[encoded data removed]",
      "text/plain": [
       "<Figure size 432x288 with 1 Axes>"
      ]
     },
     "metadata": {
      "needs_background": "light"
     },
     "output_type": "display_data"
    }
   ],
   "source": [
    "columns = ['ApplicantIncome','CoapplicantIncome','LoanAmount','Loan_Amount_Term','Credit_History']\n",
    "for col in columns:\n",
    "    sns.boxplot(loan_df[col])\n",
    "    plt.show()"
   ]
  },
  {
   "cell_type": "markdown",
   "id": "bc937f35",
   "metadata": {},
   "source": [
    "So ,We shall use median for missing values in numerical columns."
   ]
  },
  {
   "cell_type": "code",
   "execution_count": 5,
   "id": "f9d7a6c9",
   "metadata": {},
   "outputs": [],
   "source": [
    "loan_df['LoanAmount'] =loan_df['LoanAmount'].fillna(loan_df['LoanAmount'].median()) \n",
    "loan_df['Loan_Amount_Term'] =loan_df['Loan_Amount_Term'].fillna(loan_df['Loan_Amount_Term'].median()) \n",
    "loan_df['Credit_History'] =loan_df['Credit_History'].fillna(loan_df['Credit_History'].median()) \n"
   ]
  },
  {
   "cell_type": "code",
   "execution_count": 12,
   "id": "5ff80baa",
   "metadata": {},
   "outputs": [
    {
     "data": {
      "text/plain": [
       "Loan_ID               0\n",
       "Gender               13\n",
       "Married               3\n",
       "Dependents           15\n",
       "Education             0\n",
       "Self_Employed        32\n",
       "ApplicantIncome       0\n",
       "CoapplicantIncome     0\n",
       "LoanAmount            0\n",
       "Loan_Amount_Term      0\n",
       "Credit_History        0\n",
       "Property_Area         0\n",
       "Loan_Status           0\n",
       "dtype: int64"
      ]
     },
     "execution_count": 12,
     "metadata": {},
     "output_type": "execute_result"
    }
   ],
   "source": [
    "## Let us again check missing values in numerical column:\n",
    "loan_df.isnull().sum()"
   ]
  },
  {
   "cell_type": "markdown",
   "id": "e6f64c1f",
   "metadata": {},
   "source": [
    "Now not any missing values are present in numerical type columns."
   ]
  },
  {
   "cell_type": "code",
   "execution_count": 6,
   "id": "a86599be",
   "metadata": {},
   "outputs": [],
   "source": [
    "## Let us remove missing values for categorical columns using mode.\n",
    "loan_df['Gender'] =loan_df['Gender'].fillna(loan_df['Gender'].mode()[0]) \n",
    "loan_df['Married'] =loan_df['Married'].fillna(loan_df['Married'].mode()[0]) \n",
    "loan_df['Dependents'] =loan_df['Dependents'].fillna(loan_df['Dependents'].mode()[0]) \n",
    "loan_df['Self_Employed'] =loan_df['Self_Employed'].fillna(loan_df['Self_Employed'].mode()[0]) \n"
   ]
  },
  {
   "cell_type": "code",
   "execution_count": 7,
   "id": "fe4e10d6",
   "metadata": {},
   "outputs": [
    {
     "data": {
      "text/plain": [
       "Loan_ID              0\n",
       "Gender               0\n",
       "Married              0\n",
       "Dependents           0\n",
       "Education            0\n",
       "Self_Employed        0\n",
       "ApplicantIncome      0\n",
       "CoapplicantIncome    0\n",
       "LoanAmount           0\n",
       "Loan_Amount_Term     0\n",
       "Credit_History       0\n",
       "Property_Area        0\n",
       "Loan_Status          0\n",
       "dtype: int64"
      ]
     },
     "execution_count": 7,
     "metadata": {},
     "output_type": "execute_result"
    }
   ],
   "source": [
    "## Again check for missing values:\n",
    "loan_df.isnull().sum()"
   ]
  },
  {
   "cell_type": "markdown",
   "id": "70f6c00b",
   "metadata": {},
   "source": [
    "Now missing values are not present in dataset."
   ]
  },
  {
   "cell_type": "markdown",
   "id": "d6266dcd",
   "metadata": {},
   "source": [
    "# EDA"
   ]
  },
  {
   "cell_type": "markdown",
   "id": "252f4522",
   "metadata": {},
   "source": [
    "# Univariate Analysis"
   ]
  },
  {
   "cell_type": "code",
   "execution_count": null,
   "id": "20532b51",
   "metadata": {},
   "outputs": [],
   "source": [
    "## Let's check each independent variables ralation with dependent variable:-"
   ]
  },
  {
   "cell_type": "code",
   "execution_count": 31,
   "id": "75358382",
   "metadata": {},
   "outputs": [
    {
     "data": {
      "text/plain": [
       "<AxesSubplot:xlabel='Gender', ylabel='count'>"
      ]
     },
     "execution_count": 31,
     "metadata": {},
     "output_type": "execute_result"
    },
    {
     "data": {
      "image/png": "[encoded data removed]",
      "text/plain": [
       "<Figure size 432x288 with 1 Axes>"
      ]
     },
     "metadata": {
      "needs_background": "light"
     },
     "output_type": "display_data"
    }
   ],
   "source": [
    "## Visualization :-\n",
    "sns.countplot(loan_df['Gender'],hue=loan_df['Loan_Status'])"
   ]
  },
  {
   "cell_type": "markdown",
   "id": "c5533644",
   "metadata": {},
   "source": [
    " Count of Loan_status Approved is more for Males than females."
   ]
  },
  {
   "cell_type": "code",
   "execution_count": 35,
   "id": "08fc29a9",
   "metadata": {},
   "outputs": [
    {
     "data": {
      "text/plain": [
       "Male      502\n",
       "Female    112\n",
       "Name: Gender, dtype: int64"
      ]
     },
     "execution_count": 35,
     "metadata": {},
     "output_type": "execute_result"
    }
   ],
   "source": [
    "loan_df['Gender'].value_counts()"
   ]
  },
  {
   "cell_type": "code",
   "execution_count": 32,
   "id": "cec81a03",
   "metadata": {},
   "outputs": [
    {
     "data": {
      "text/plain": [
       "<AxesSubplot:xlabel='Married', ylabel='count'>"
      ]
     },
     "execution_count": 32,
     "metadata": {},
     "output_type": "execute_result"
    },
    {
     "data": {
      "image/png": "[encoded data removed]",
      "text/plain": [
       "<Figure size 432x288 with 1 Axes>"
      ]
     },
     "metadata": {
      "needs_background": "light"
     },
     "output_type": "display_data"
    }
   ],
   "source": [
    "sns.countplot(loan_df['Married'],hue=loan_df['Loan_Status'])"
   ]
  },
  {
   "cell_type": "code",
   "execution_count": null,
   "id": "7385254a",
   "metadata": {},
   "outputs": [],
   "source": [
    " Count of Loan_status Approved is more for Married than Singles."
   ]
  },
  {
   "cell_type": "code",
   "execution_count": 37,
   "id": "4676b0bb",
   "metadata": {},
   "outputs": [
    {
     "data": {
      "text/plain": [
       "Yes    401\n",
       "No     213\n",
       "Name: Married, dtype: int64"
      ]
     },
     "execution_count": 37,
     "metadata": {},
     "output_type": "execute_result"
    }
   ],
   "source": [
    "loan_df['Married'].value_counts()"
   ]
  },
  {
   "cell_type": "code",
   "execution_count": 33,
   "id": "7f65f13a",
   "metadata": {},
   "outputs": [
    {
     "data": {
      "text/plain": [
       "<AxesSubplot:xlabel='Dependents', ylabel='count'>"
      ]
     },
     "execution_count": 33,
     "metadata": {},
     "output_type": "execute_result"
    },
    {
     "data": {
      "image/png": "[encoded data removed]",
      "text/plain": [
       "<Figure size 432x288 with 1 Axes>"
      ]
     },
     "metadata": {
      "needs_background": "light"
     },
     "output_type": "display_data"
    }
   ],
   "source": [
    "sns.countplot(loan_df['Dependents'],hue=loan_df['Loan_Status'])"
   ]
  },
  {
   "cell_type": "markdown",
   "id": "51c22174",
   "metadata": {},
   "source": [
    "Count of Loan_status Approved is most for 0 dependents and less for those with 3+ depandents."
   ]
  },
  {
   "cell_type": "code",
   "execution_count": 39,
   "id": "939687de",
   "metadata": {},
   "outputs": [
    {
     "data": {
      "text/plain": [
       "0     360\n",
       "1     102\n",
       "2     101\n",
       "3+     51\n",
       "Name: Dependents, dtype: int64"
      ]
     },
     "execution_count": 39,
     "metadata": {},
     "output_type": "execute_result"
    }
   ],
   "source": [
    "loan_df['Dependents'].value_counts()"
   ]
  },
  {
   "cell_type": "markdown",
   "id": "d08b2532",
   "metadata": {},
   "source": [
    "Dependents column has 4 type of values,those who are single means 0 dependent,1 dependent,2 dependent,and 3 plus dependant."
   ]
  },
  {
   "cell_type": "code",
   "execution_count": 34,
   "id": "467ba066",
   "metadata": {},
   "outputs": [
    {
     "data": {
      "text/plain": [
       "<AxesSubplot:xlabel='Education', ylabel='count'>"
      ]
     },
     "execution_count": 34,
     "metadata": {},
     "output_type": "execute_result"
    },
    {
     "data": {
      "image/png": "[encoded data removed]",
      "text/plain": [
       "<Figure size 432x288 with 1 Axes>"
      ]
     },
     "metadata": {
      "needs_background": "light"
     },
     "output_type": "display_data"
    }
   ],
   "source": [
    "sns.countplot(loan_df['Education'],hue=loan_df['Loan_Status'])"
   ]
  },
  {
   "cell_type": "markdown",
   "id": "b6b8198e",
   "metadata": {},
   "source": [
    "Count of Loan_status Approved  is more for Graduates than Not Graduate."
   ]
  },
  {
   "cell_type": "code",
   "execution_count": 41,
   "id": "3f3b1775",
   "metadata": {},
   "outputs": [
    {
     "data": {
      "text/plain": [
       "Graduate        480\n",
       "Not Graduate    134\n",
       "Name: Education, dtype: int64"
      ]
     },
     "execution_count": 41,
     "metadata": {},
     "output_type": "execute_result"
    }
   ],
   "source": [
    "loan_df['Education'].value_counts()"
   ]
  },
  {
   "cell_type": "code",
   "execution_count": 35,
   "id": "1ab9edea",
   "metadata": {},
   "outputs": [
    {
     "data": {
      "text/plain": [
       "<AxesSubplot:xlabel='Self_Employed', ylabel='count'>"
      ]
     },
     "execution_count": 35,
     "metadata": {},
     "output_type": "execute_result"
    },
    {
     "data": {
      "image/png": "[encoded data removed]",
      "text/plain": [
       "<Figure size 432x288 with 1 Axes>"
      ]
     },
     "metadata": {
      "needs_background": "light"
     },
     "output_type": "display_data"
    }
   ],
   "source": [
    "sns.countplot(loan_df['Self_Employed'],hue=loan_df['Loan_Status'])"
   ]
  },
  {
   "cell_type": "markdown",
   "id": "cf612c0f",
   "metadata": {},
   "source": [
    "Count of Loan_status Approved  is more for those who are not self employed."
   ]
  },
  {
   "cell_type": "code",
   "execution_count": 44,
   "id": "a37d7c9e",
   "metadata": {},
   "outputs": [
    {
     "data": {
      "text/plain": [
       "No     532\n",
       "Yes     82\n",
       "Name: Self_Employed, dtype: int64"
      ]
     },
     "execution_count": 44,
     "metadata": {},
     "output_type": "execute_result"
    }
   ],
   "source": [
    "loan_df['Self_Employed'].value_counts()"
   ]
  },
  {
   "cell_type": "code",
   "execution_count": 36,
   "id": "699410e0",
   "metadata": {},
   "outputs": [
    {
     "data": {
      "text/plain": [
       "<AxesSubplot:xlabel='Property_Area', ylabel='count'>"
      ]
     },
     "execution_count": 36,
     "metadata": {},
     "output_type": "execute_result"
    },
    {
     "data": {
      "image/png": "[encoded data removed]",
      "text/plain": [
       "<Figure size 432x288 with 1 Axes>"
      ]
     },
     "metadata": {
      "needs_background": "light"
     },
     "output_type": "display_data"
    }
   ],
   "source": [
    "sns.countplot(loan_df['Property_Area'],hue=loan_df['Loan_Status'])"
   ]
  },
  {
   "cell_type": "code",
   "execution_count": null,
   "id": "b2540cc9",
   "metadata": {},
   "outputs": [],
   "source": [
    "Count of Loan_status Approved  is most for Semiurban than Urban and Rural."
   ]
  },
  {
   "cell_type": "code",
   "execution_count": 46,
   "id": "13dbb0e5",
   "metadata": {},
   "outputs": [
    {
     "data": {
      "text/plain": [
       "Semiurban    233\n",
       "Urban        202\n",
       "Rural        179\n",
       "Name: Property_Area, dtype: int64"
      ]
     },
     "execution_count": 46,
     "metadata": {},
     "output_type": "execute_result"
    }
   ],
   "source": [
    "loan_df['Property_Area'].value_counts()"
   ]
  },
  {
   "cell_type": "markdown",
   "id": "324ebeaa",
   "metadata": {},
   "source": [
    "There are 3 types of Property Area ,Semiurban,Urban and Rural."
   ]
  },
  {
   "cell_type": "code",
   "execution_count": 47,
   "id": "c324a384",
   "metadata": {},
   "outputs": [
    {
     "data": {
      "text/plain": [
       "<AxesSubplot:xlabel='Loan_Status', ylabel='count'>"
      ]
     },
     "execution_count": 47,
     "metadata": {},
     "output_type": "execute_result"
    },
    {
     "data": {
      "image/png": "[encoded data removed]",
      "text/plain": [
       "<Figure size 432x288 with 1 Axes>"
      ]
     },
     "metadata": {
      "needs_background": "light"
     },
     "output_type": "display_data"
    }
   ],
   "source": [
    "sns.countplot(loan_df['Loan_Status'])"
   ]
  },
  {
   "cell_type": "code",
   "execution_count": 49,
   "id": "10e47966",
   "metadata": {},
   "outputs": [
    {
     "data": {
      "text/plain": [
       "Y    422\n",
       "N    192\n",
       "Name: Loan_Status, dtype: int64"
      ]
     },
     "execution_count": 49,
     "metadata": {},
     "output_type": "execute_result"
    }
   ],
   "source": [
    "loan_df['Loan_Status'].value_counts()"
   ]
  },
  {
   "cell_type": "markdown",
   "id": "907d6588",
   "metadata": {},
   "source": [
    "Count of Loan_status Approved is more than not approved loan status."
   ]
  },
  {
   "cell_type": "code",
   "execution_count": 50,
   "id": "eadf4332",
   "metadata": {},
   "outputs": [
    {
     "data": {
      "text/plain": [
       "<AxesSubplot:xlabel='ApplicantIncome', ylabel='Density'>"
      ]
     },
     "execution_count": 50,
     "metadata": {},
     "output_type": "execute_result"
    },
    {
     "data": {
      "image/png": "[encoded data removed]",
      "text/plain": [
       "<Figure size 432x288 with 1 Axes>"
      ]
     },
     "metadata": {
      "needs_background": "light"
     },
     "output_type": "display_data"
    }
   ],
   "source": [
    "## Checking distribution in numerical columns:-\n",
    "sns.distplot(loan_df['ApplicantIncome'])"
   ]
  },
  {
   "cell_type": "markdown",
   "id": "2f1e922d",
   "metadata": {},
   "source": [
    "ApplicantIncome column is rightly skewed. "
   ]
  },
  {
   "cell_type": "code",
   "execution_count": 51,
   "id": "3bd499ca",
   "metadata": {},
   "outputs": [
    {
     "data": {
      "text/plain": [
       "<AxesSubplot:xlabel='CoapplicantIncome', ylabel='Density'>"
      ]
     },
     "execution_count": 51,
     "metadata": {},
     "output_type": "execute_result"
    },
    {
     "data": {
      "image/png": "[encoded data removed]",
      "text/plain": [
       "<Figure size 432x288 with 1 Axes>"
      ]
     },
     "metadata": {
      "needs_background": "light"
     },
     "output_type": "display_data"
    }
   ],
   "source": [
    "sns.distplot(loan_df['CoapplicantIncome'])"
   ]
  },
  {
   "cell_type": "markdown",
   "id": "77593474",
   "metadata": {},
   "source": [
    "CoapplicantIncome column is rightly skewed."
   ]
  },
  {
   "cell_type": "code",
   "execution_count": 52,
   "id": "c433053d",
   "metadata": {},
   "outputs": [
    {
     "data": {
      "text/plain": [
       "<AxesSubplot:xlabel='LoanAmount', ylabel='Density'>"
      ]
     },
     "execution_count": 52,
     "metadata": {},
     "output_type": "execute_result"
    },
    {
     "data": {
      "image/png": "[encoded data removed]",
      "text/plain": [
       "<Figure size 432x288 with 1 Axes>"
      ]
     },
     "metadata": {
      "needs_background": "light"
     },
     "output_type": "display_data"
    }
   ],
   "source": [
    "sns.distplot(loan_df['LoanAmount'])"
   ]
  },
  {
   "cell_type": "markdown",
   "id": "42e49ce4",
   "metadata": {},
   "source": [
    "LoanAmount column is rightly skewed."
   ]
  },
  {
   "cell_type": "code",
   "execution_count": 53,
   "id": "2732a198",
   "metadata": {},
   "outputs": [
    {
     "data": {
      "text/plain": [
       "<AxesSubplot:xlabel='Loan_Amount_Term', ylabel='Density'>"
      ]
     },
     "execution_count": 53,
     "metadata": {},
     "output_type": "execute_result"
    },
    {
     "data": {
      "image/png": "[encoded data removed]",
      "text/plain": [
       "<Figure size 432x288 with 1 Axes>"
      ]
     },
     "metadata": {
      "needs_background": "light"
     },
     "output_type": "display_data"
    }
   ],
   "source": [
    "sns.distplot(loan_df['Loan_Amount_Term'])"
   ]
  },
  {
   "cell_type": "markdown",
   "id": "154aac93",
   "metadata": {},
   "source": [
    "Loan_Amount_Term column  is left skewed."
   ]
  },
  {
   "cell_type": "code",
   "execution_count": 54,
   "id": "1d67840f",
   "metadata": {},
   "outputs": [
    {
     "data": {
      "text/plain": [
       "<AxesSubplot:xlabel='Credit_History', ylabel='Density'>"
      ]
     },
     "execution_count": 54,
     "metadata": {},
     "output_type": "execute_result"
    },
    {
     "data": {
      "image/png": "[encoded data removed]",
      "text/plain": [
       "<Figure size 432x288 with 1 Axes>"
      ]
     },
     "metadata": {
      "needs_background": "light"
     },
     "output_type": "display_data"
    }
   ],
   "source": [
    "sns.distplot(loan_df['Credit_History'])"
   ]
  },
  {
   "cell_type": "markdown",
   "id": "404fb28e",
   "metadata": {},
   "source": [
    "Credit_History column is left skewed."
   ]
  },
  {
   "cell_type": "markdown",
   "id": "42bd9f31",
   "metadata": {},
   "source": [
    "# Bi-Variate Analysis"
   ]
  },
  {
   "cell_type": "markdown",
   "id": "f8093c36",
   "metadata": {},
   "source": [
    "let's check relation between two variables against target variable:-"
   ]
  },
  {
   "cell_type": "code",
   "execution_count": 39,
   "id": "96039be0",
   "metadata": {},
   "outputs": [
    {
     "data": {
      "text/plain": [
       "<AxesSubplot:title={'center':'Comparison between Married and Dependents'}, xlabel='Married', ylabel='Dependents'>"
      ]
     },
     "execution_count": 39,
     "metadata": {},
     "output_type": "execute_result"
    },
    {
     "data": {
      "image/png": "[encoded data removed]",
      "text/plain": [
       "<Figure size 360x360 with 1 Axes>"
      ]
     },
     "metadata": {
      "needs_background": "light"
     },
     "output_type": "display_data"
    }
   ],
   "source": [
    "plt.figure(figsize=[5,5])\n",
    "plt.title('Comparison between Married and Dependents')\n",
    "sns.scatterplot(loan_df['Married'],loan_df['Dependents'],hue=loan_df[\"Loan_Status\"])\n"
   ]
  },
  {
   "cell_type": "code",
   "execution_count": null,
   "id": "d0d7722c",
   "metadata": {},
   "outputs": [],
   "source": [
    "Those who are married and 3+ dependents or no dependents ,loan status is not approved for them."
   ]
  },
  {
   "cell_type": "code",
   "execution_count": 40,
   "id": "a4ada044",
   "metadata": {},
   "outputs": [
    {
     "data": {
      "text/plain": [
       "<AxesSubplot:title={'center':'Comparison between Dependents and Education'}, xlabel='Dependents', ylabel='Education'>"
      ]
     },
     "execution_count": 40,
     "metadata": {},
     "output_type": "execute_result"
    },
    {
     "data": {
      "image/png": "[encoded data removed]",
      "text/plain": [
       "<Figure size 360x360 with 1 Axes>"
      ]
     },
     "metadata": {
      "needs_background": "light"
     },
     "output_type": "display_data"
    }
   ],
   "source": [
    "plt.figure(figsize=[5,5])\n",
    "plt.title('Comparison between Dependents and Education')\n",
    "sns.scatterplot(loan_df['Dependents'],loan_df['Education'],hue=loan_df[\"Loan_Status\"])\n"
   ]
  },
  {
   "cell_type": "markdown",
   "id": "026beddf",
   "metadata": {},
   "source": [
    "Graduate or Non Graduate,those who have 0 dependents,Loan_Status is not approved."
   ]
  },
  {
   "cell_type": "code",
   "execution_count": 42,
   "id": "8b6d553b",
   "metadata": {},
   "outputs": [
    {
     "data": {
      "text/plain": [
       "<AxesSubplot:title={'center':'Comparison between Education and Self_Employed'}, xlabel='Education', ylabel='Self_Employed'>"
      ]
     },
     "execution_count": 42,
     "metadata": {},
     "output_type": "execute_result"
    },
    {
     "data": {
      "image/png": "[encoded data removed]",
      "text/plain": [
       "<Figure size 360x360 with 1 Axes>"
      ]
     },
     "metadata": {
      "needs_background": "light"
     },
     "output_type": "display_data"
    }
   ],
   "source": [
    "plt.figure(figsize=[5,5])\n",
    "plt.title('Comparison between Education and Self_Employed')\n",
    "sns.scatterplot(loan_df['Education'],loan_df['Self_Employed'],hue=loan_df[\"Loan_Status\"])\n"
   ]
  },
  {
   "cell_type": "markdown",
   "id": "a7bb1f25",
   "metadata": {},
   "source": [
    "Graduate or Non Graduate those who are self employed,Loan status is not approved."
   ]
  },
  {
   "cell_type": "code",
   "execution_count": 44,
   "id": "0247c2ca",
   "metadata": {},
   "outputs": [
    {
     "data": {
      "text/plain": [
       "<AxesSubplot:title={'center':'Comparison between Self_Employed and ApplicantIncome'}, xlabel='Self_Employed', ylabel='ApplicantIncome'>"
      ]
     },
     "execution_count": 44,
     "metadata": {},
     "output_type": "execute_result"
    },
    {
     "data": {
      "image/png": "[encoded data removed]",
      "text/plain": [
       "<Figure size 360x360 with 1 Axes>"
      ]
     },
     "metadata": {
      "needs_background": "light"
     },
     "output_type": "display_data"
    }
   ],
   "source": [
    "plt.figure(figsize=[5,5])\n",
    "plt.title('Comparison between Self_Employed and ApplicantIncome')\n",
    "sns.scatterplot(loan_df['Self_Employed'],loan_df['ApplicantIncome'],hue=loan_df[\"Loan_Status\"])\n"
   ]
  },
  {
   "cell_type": "markdown",
   "id": "77b5c624",
   "metadata": {},
   "source": [
    "1.Self_Employed and Income between 15k to 40k ,Loan status is approved.\n",
    "2.Those who are not self employed and Income ranges between 2k to 65k,Loan status is approved."
   ]
  },
  {
   "cell_type": "code",
   "execution_count": 46,
   "id": "14fef9a9",
   "metadata": {},
   "outputs": [
    {
     "data": {
      "text/plain": [
       "<AxesSubplot:title={'center':'Comparison between ApplicantIncome and CoapplicantIncome'}, xlabel='ApplicantIncome', ylabel='CoapplicantIncome'>"
      ]
     },
     "execution_count": 46,
     "metadata": {},
     "output_type": "execute_result"
    },
    {
     "data": {
      "image/png": "[encoded data removed]",
      "text/plain": [
       "<Figure size 360x360 with 1 Axes>"
      ]
     },
     "metadata": {
      "needs_background": "light"
     },
     "output_type": "display_data"
    }
   ],
   "source": [
    "plt.figure(figsize=[5,5])\n",
    "plt.title('Comparison between ApplicantIncome and CoapplicantIncome')\n",
    "sns.scatterplot(loan_df['ApplicantIncome'],loan_df['CoapplicantIncome'],hue=loan_df[\"Loan_Status\"])\n"
   ]
  },
  {
   "cell_type": "markdown",
   "id": "b0ea4c89",
   "metadata": {},
   "source": [
    "Applicant income between 2k to 25k around and Co Applicant Income ranges between 2k to 10k,Loan Aprroval status is more."
   ]
  },
  {
   "cell_type": "code",
   "execution_count": 47,
   "id": "d1e53bc3",
   "metadata": {},
   "outputs": [
    {
     "data": {
      "text/plain": [
       "<AxesSubplot:title={'center':'Comparison between ApplicantIncome and LoanAmount'}, xlabel='ApplicantIncome', ylabel='LoanAmount'>"
      ]
     },
     "execution_count": 47,
     "metadata": {},
     "output_type": "execute_result"
    },
    {
     "data": {
      "image/png": "[encoded data removed]",
      "text/plain": [
       "<Figure size 360x360 with 1 Axes>"
      ]
     },
     "metadata": {
      "needs_background": "light"
     },
     "output_type": "display_data"
    }
   ],
   "source": [
    "plt.figure(figsize=[5,5])\n",
    "plt.title('Comparison between ApplicantIncome and LoanAmount')\n",
    "sns.scatterplot(loan_df['ApplicantIncome'],loan_df['LoanAmount'],hue=loan_df[\"Loan_Status\"])\n"
   ]
  },
  {
   "cell_type": "code",
   "execution_count": null,
   "id": "b426daf9",
   "metadata": {},
   "outputs": [],
   "source": [
    "Applicant income ranges between 2k to near about 60k ,And loan amount between 10k to 500k, more of Loan status is approved ."
   ]
  },
  {
   "cell_type": "code",
   "execution_count": 48,
   "id": "a2812656",
   "metadata": {},
   "outputs": [
    {
     "data": {
      "text/plain": [
       "<AxesSubplot:title={'center':'Comparison between ApplicantIncome and LoanAmount'}, xlabel='CoapplicantIncome', ylabel='LoanAmount'>"
      ]
     },
     "execution_count": 48,
     "metadata": {},
     "output_type": "execute_result"
    },
    {
     "data": {
      "image/png": "[encoded data removed]",
      "text/plain": [
       "<Figure size 360x360 with 1 Axes>"
      ]
     },
     "metadata": {
      "needs_background": "light"
     },
     "output_type": "display_data"
    }
   ],
   "source": [
    "plt.figure(figsize=[5,5])\n",
    "plt.title('Comparison between ApplicantIncome and LoanAmount')\n",
    "sns.scatterplot(loan_df['CoapplicantIncome'],loan_df['LoanAmount'],hue=loan_df[\"Loan_Status\"])\n"
   ]
  },
  {
   "cell_type": "code",
   "execution_count": null,
   "id": "20f59e56",
   "metadata": {},
   "outputs": [],
   "source": [
    "Coapplicant Income ranges between 2k to 10k and Loan Amount between 10k to 350k ,most of Loan status is approved."
   ]
  },
  {
   "cell_type": "code",
   "execution_count": 50,
   "id": "221bebe2",
   "metadata": {},
   "outputs": [
    {
     "data": {
      "text/plain": [
       "<AxesSubplot:title={'center':'Comparison between LoanAmount and Credit_History'}, xlabel='LoanAmount', ylabel='Credit_History'>"
      ]
     },
     "execution_count": 50,
     "metadata": {},
     "output_type": "execute_result"
    },
    {
     "data": {
      "image/png": "[encoded data removed]",
      "text/plain": [
       "<Figure size 360x360 with 1 Axes>"
      ]
     },
     "metadata": {
      "needs_background": "light"
     },
     "output_type": "display_data"
    }
   ],
   "source": [
    "plt.figure(figsize=[5,5])\n",
    "plt.title('Comparison between LoanAmount and Credit_History')\n",
    "sns.scatterplot(loan_df['LoanAmount'],loan_df['Credit_History'],hue=loan_df[\"Loan_Status\"])\n"
   ]
  },
  {
   "cell_type": "markdown",
   "id": "9c2f84c2",
   "metadata": {},
   "source": [
    "Loan status is approved more for Credit History 1."
   ]
  },
  {
   "cell_type": "code",
   "execution_count": 51,
   "id": "948af6c1",
   "metadata": {},
   "outputs": [
    {
     "data": {
      "text/plain": [
       "<AxesSubplot:title={'center':'Comparison between LoanAmount and Loan_Amount_Term'}, xlabel='LoanAmount', ylabel='Loan_Amount_Term'>"
      ]
     },
     "execution_count": 51,
     "metadata": {},
     "output_type": "execute_result"
    },
    {
     "data": {
      "image/png": "[encoded data removed]",
      "text/plain": [
       "<Figure size 360x360 with 1 Axes>"
      ]
     },
     "metadata": {
      "needs_background": "light"
     },
     "output_type": "display_data"
    }
   ],
   "source": [
    "plt.figure(figsize=[5,5])\n",
    "plt.title('Comparison between LoanAmount and Loan_Amount_Term')\n",
    "sns.scatterplot(loan_df['LoanAmount'],loan_df['Loan_Amount_Term'],hue=loan_df[\"Loan_Status\"])\n"
   ]
  },
  {
   "cell_type": "markdown",
   "id": "be949ec9",
   "metadata": {},
   "source": [
    "Loan status is more approved for Loan Amount Term 360."
   ]
  },
  {
   "cell_type": "code",
   "execution_count": 52,
   "id": "3e7871ca",
   "metadata": {},
   "outputs": [
    {
     "data": {
      "text/plain": [
       "<AxesSubplot:title={'center':'Comparison between LoanAmount and Property_Area'}, xlabel='LoanAmount', ylabel='Property_Area'>"
      ]
     },
     "execution_count": 52,
     "metadata": {},
     "output_type": "execute_result"
    },
    {
     "data": {
      "image/png": "[encoded data removed]",
      "text/plain": [
       "<Figure size 360x360 with 1 Axes>"
      ]
     },
     "metadata": {
      "needs_background": "light"
     },
     "output_type": "display_data"
    }
   ],
   "source": [
    "plt.figure(figsize=[5,5])\n",
    "plt.title('Comparison between LoanAmount and Property_Area')\n",
    "sns.scatterplot(loan_df['LoanAmount'],loan_df['Property_Area'],hue=loan_df[\"Loan_Status\"])\n"
   ]
  },
  {
   "cell_type": "markdown",
   "id": "d5ffca05",
   "metadata": {},
   "source": [
    "Loan status approved is more for Urban area."
   ]
  },
  {
   "cell_type": "markdown",
   "id": "905dd61f",
   "metadata": {},
   "source": [
    "# MultiVariate Analysis"
   ]
  },
  {
   "cell_type": "code",
   "execution_count": 53,
   "id": "7163b063",
   "metadata": {},
   "outputs": [
    {
     "data": {
      "text/plain": [
       "<seaborn.axisgrid.PairGrid at 0x27c54a1cc70>"
      ]
     },
     "execution_count": 53,
     "metadata": {},
     "output_type": "execute_result"
    },
    {
     "data": {
      "image/png": "[encoded data removed]",
      "text/plain": [
       "<Figure size 900x900 with 30 Axes>"
      ]
     },
     "metadata": {
      "needs_background": "light"
     },
     "output_type": "display_data"
    }
   ],
   "source": [
    "sns.pairplot(loan_df)"
   ]
  },
  {
   "cell_type": "markdown",
   "id": "cf82a94f",
   "metadata": {},
   "source": [
    "# Correlation Matrix:-"
   ]
  },
  {
   "cell_type": "code",
   "execution_count": 55,
   "id": "43aed131",
   "metadata": {},
   "outputs": [
    {
     "data": {
      "text/html": [
       "<div>\n",
       "<style scoped>\n",
       "    .dataframe tbody tr th:only-of-type {\n",
       "        vertical-align: middle;\n",
       "    }\n",
       "\n",
       "    .dataframe tbody tr th {\n",
       "        vertical-align: top;\n",
       "    }\n",
       "\n",
       "    .dataframe thead th {\n",
       "        text-align: right;\n",
       "    }\n",
       "</style>\n",
       "<table border=\"1\" class=\"dataframe\">\n",
       "  <thead>\n",
       "    <tr style=\"text-align: right;\">\n",
       "      <th></th>\n",
       "      <th>ApplicantIncome</th>\n",
       "      <th>CoapplicantIncome</th>\n",
       "      <th>LoanAmount</th>\n",
       "      <th>Loan_Amount_Term</th>\n",
       "      <th>Credit_History</th>\n",
       "    </tr>\n",
       "  </thead>\n",
       "  <tbody>\n",
       "    <tr>\n",
       "      <th>ApplicantIncome</th>\n",
       "      <td>1.000000</td>\n",
       "      <td>-0.116605</td>\n",
       "      <td>0.565181</td>\n",
       "      <td>-0.046531</td>\n",
       "      <td>-0.018615</td>\n",
       "    </tr>\n",
       "    <tr>\n",
       "      <th>CoapplicantIncome</th>\n",
       "      <td>-0.116605</td>\n",
       "      <td>1.000000</td>\n",
       "      <td>0.189218</td>\n",
       "      <td>-0.059383</td>\n",
       "      <td>0.011134</td>\n",
       "    </tr>\n",
       "    <tr>\n",
       "      <th>LoanAmount</th>\n",
       "      <td>0.565181</td>\n",
       "      <td>0.189218</td>\n",
       "      <td>1.000000</td>\n",
       "      <td>0.036960</td>\n",
       "      <td>-0.000607</td>\n",
       "    </tr>\n",
       "    <tr>\n",
       "      <th>Loan_Amount_Term</th>\n",
       "      <td>-0.046531</td>\n",
       "      <td>-0.059383</td>\n",
       "      <td>0.036960</td>\n",
       "      <td>1.000000</td>\n",
       "      <td>-0.004705</td>\n",
       "    </tr>\n",
       "    <tr>\n",
       "      <th>Credit_History</th>\n",
       "      <td>-0.018615</td>\n",
       "      <td>0.011134</td>\n",
       "      <td>-0.000607</td>\n",
       "      <td>-0.004705</td>\n",
       "      <td>1.000000</td>\n",
       "    </tr>\n",
       "  </tbody>\n",
       "</table>\n",
       "</div>"
      ],
      "text/plain": [
       "                   ApplicantIncome  CoapplicantIncome  LoanAmount  \\\n",
       "ApplicantIncome           1.000000          -0.116605    0.565181   \n",
       "CoapplicantIncome        -0.116605           1.000000    0.189218   \n",
       "LoanAmount                0.565181           0.189218    1.000000   \n",
       "Loan_Amount_Term         -0.046531          -0.059383    0.036960   \n",
       "Credit_History           -0.018615           0.011134   -0.000607   \n",
       "\n",
       "                   Loan_Amount_Term  Credit_History  \n",
       "ApplicantIncome           -0.046531       -0.018615  \n",
       "CoapplicantIncome         -0.059383        0.011134  \n",
       "LoanAmount                 0.036960       -0.000607  \n",
       "Loan_Amount_Term           1.000000       -0.004705  \n",
       "Credit_History            -0.004705        1.000000  "
      ]
     },
     "execution_count": 55,
     "metadata": {},
     "output_type": "execute_result"
    }
   ],
   "source": [
    "corr = loan_df.corr()\n",
    "corr"
   ]
  },
  {
   "cell_type": "code",
   "execution_count": 56,
   "id": "7e291a00",
   "metadata": {},
   "outputs": [
    {
     "data": {
      "text/plain": [
       "<AxesSubplot:>"
      ]
     },
     "execution_count": 56,
     "metadata": {},
     "output_type": "execute_result"
    },
    {
     "data": {
      "image/png": "[encoded data removed]",
      "text/plain": [
       "<Figure size 432x288 with 2 Axes>"
      ]
     },
     "metadata": {
      "needs_background": "light"
     },
     "output_type": "display_data"
    }
   ],
   "source": [
    "sns.heatmap(corr,annot=True,cmap='RdYlGn')"
   ]
  },
  {
   "cell_type": "markdown",
   "id": "e79b33cc",
   "metadata": {},
   "source": [
    "1.Applicant Income is 57%  positive correlation with Loan Amount.\n",
    "2.Applicant Income is 12% negative correlation with Co Applicant Income.\n",
    "3.Loan Amount Term and Credit History has very weak negative correlation.\n",
    "4.Loan Amount and Loan Amount Term Has very weak correlation of 3.7%."
   ]
  },
  {
   "cell_type": "markdown",
   "id": "b597d347",
   "metadata": {},
   "source": [
    "# Outliers"
   ]
  },
  {
   "cell_type": "code",
   "execution_count": 8,
   "id": "3ac7b90f",
   "metadata": {},
   "outputs": [
    {
     "data": {
      "image/png": "[encoded data removed]",
      "text/plain": [
       "<Figure size 432x288 with 1 Axes>"
      ]
     },
     "metadata": {
      "needs_background": "light"
     },
     "output_type": "display_data"
    },
    {
     "data": {
      "image/png": "[encoded data removed]",
      "text/plain": [
       "<Figure size 432x288 with 1 Axes>"
      ]
     },
     "metadata": {
      "needs_background": "light"
     },
     "output_type": "display_data"
    },
    {
     "data": {
      "image/png": "[encoded data removed]",
      "text/plain": [
       "<Figure size 432x288 with 1 Axes>"
      ]
     },
     "metadata": {
      "needs_background": "light"
     },
     "output_type": "display_data"
    },
    {
     "data": {
      "image/png": "[encoded data removed]",
      "text/plain": [
       "<Figure size 432x288 with 1 Axes>"
      ]
     },
     "metadata": {
      "needs_background": "light"
     },
     "output_type": "display_data"
    },
    {
     "data": {
      "image/png": "[encoded data removed]",
      "text/plain": [
       "<Figure size 432x288 with 1 Axes>"
      ]
     },
     "metadata": {
      "needs_background": "light"
     },
     "output_type": "display_data"
    }
   ],
   "source": [
    "columns = ['ApplicantIncome','CoapplicantIncome','LoanAmount','Loan_Amount_Term','Credit_History']\n",
    "for col in columns:\n",
    "    sns.boxplot(loan_df[col])\n",
    "    plt.show()"
   ]
  },
  {
   "cell_type": "markdown",
   "id": "6742206b",
   "metadata": {},
   "source": [
    "As we have already observed that outliers are present in our dataset.So will remove through Zscore."
   ]
  },
  {
   "cell_type": "markdown",
   "id": "491e8092",
   "metadata": {},
   "source": [
    "# ZScore"
   ]
  },
  {
   "cell_type": "code",
   "execution_count": 9,
   "id": "21119b03",
   "metadata": {},
   "outputs": [
    {
     "data": {
      "text/html": [
       "<div>\n",
       "<style scoped>\n",
       "    .dataframe tbody tr th:only-of-type {\n",
       "        vertical-align: middle;\n",
       "    }\n",
       "\n",
       "    .dataframe tbody tr th {\n",
       "        vertical-align: top;\n",
       "    }\n",
       "\n",
       "    .dataframe thead th {\n",
       "        text-align: right;\n",
       "    }\n",
       "</style>\n",
       "<table border=\"1\" class=\"dataframe\">\n",
       "  <thead>\n",
       "    <tr style=\"text-align: right;\">\n",
       "      <th></th>\n",
       "      <th>Loan_ID</th>\n",
       "      <th>Gender</th>\n",
       "      <th>Married</th>\n",
       "      <th>Dependents</th>\n",
       "      <th>Education</th>\n",
       "      <th>Self_Employed</th>\n",
       "      <th>ApplicantIncome</th>\n",
       "      <th>CoapplicantIncome</th>\n",
       "      <th>LoanAmount</th>\n",
       "      <th>Loan_Amount_Term</th>\n",
       "      <th>Credit_History</th>\n",
       "      <th>Property_Area</th>\n",
       "      <th>Loan_Status</th>\n",
       "    </tr>\n",
       "  </thead>\n",
       "  <tbody>\n",
       "    <tr>\n",
       "      <th>0</th>\n",
       "      <td>LP001002</td>\n",
       "      <td>Male</td>\n",
       "      <td>No</td>\n",
       "      <td>0</td>\n",
       "      <td>Graduate</td>\n",
       "      <td>No</td>\n",
       "      <td>5849</td>\n",
       "      <td>0.0</td>\n",
       "      <td>128.0</td>\n",
       "      <td>360.0</td>\n",
       "      <td>1.0</td>\n",
       "      <td>Urban</td>\n",
       "      <td>Y</td>\n",
       "    </tr>\n",
       "    <tr>\n",
       "      <th>1</th>\n",
       "      <td>LP001003</td>\n",
       "      <td>Male</td>\n",
       "      <td>Yes</td>\n",
       "      <td>1</td>\n",
       "      <td>Graduate</td>\n",
       "      <td>No</td>\n",
       "      <td>4583</td>\n",
       "      <td>1508.0</td>\n",
       "      <td>128.0</td>\n",
       "      <td>360.0</td>\n",
       "      <td>1.0</td>\n",
       "      <td>Rural</td>\n",
       "      <td>N</td>\n",
       "    </tr>\n",
       "    <tr>\n",
       "      <th>2</th>\n",
       "      <td>LP001005</td>\n",
       "      <td>Male</td>\n",
       "      <td>Yes</td>\n",
       "      <td>0</td>\n",
       "      <td>Graduate</td>\n",
       "      <td>Yes</td>\n",
       "      <td>3000</td>\n",
       "      <td>0.0</td>\n",
       "      <td>66.0</td>\n",
       "      <td>360.0</td>\n",
       "      <td>1.0</td>\n",
       "      <td>Urban</td>\n",
       "      <td>Y</td>\n",
       "    </tr>\n",
       "    <tr>\n",
       "      <th>3</th>\n",
       "      <td>LP001006</td>\n",
       "      <td>Male</td>\n",
       "      <td>Yes</td>\n",
       "      <td>0</td>\n",
       "      <td>Not Graduate</td>\n",
       "      <td>No</td>\n",
       "      <td>2583</td>\n",
       "      <td>2358.0</td>\n",
       "      <td>120.0</td>\n",
       "      <td>360.0</td>\n",
       "      <td>1.0</td>\n",
       "      <td>Urban</td>\n",
       "      <td>Y</td>\n",
       "    </tr>\n",
       "    <tr>\n",
       "      <th>4</th>\n",
       "      <td>LP001008</td>\n",
       "      <td>Male</td>\n",
       "      <td>No</td>\n",
       "      <td>0</td>\n",
       "      <td>Graduate</td>\n",
       "      <td>No</td>\n",
       "      <td>6000</td>\n",
       "      <td>0.0</td>\n",
       "      <td>141.0</td>\n",
       "      <td>360.0</td>\n",
       "      <td>1.0</td>\n",
       "      <td>Urban</td>\n",
       "      <td>Y</td>\n",
       "    </tr>\n",
       "  </tbody>\n",
       "</table>\n",
       "</div>"
      ],
      "text/plain": [
       "    Loan_ID Gender Married Dependents     Education Self_Employed  \\\n",
       "0  LP001002   Male      No          0      Graduate            No   \n",
       "1  LP001003   Male     Yes          1      Graduate            No   \n",
       "2  LP001005   Male     Yes          0      Graduate           Yes   \n",
       "3  LP001006   Male     Yes          0  Not Graduate            No   \n",
       "4  LP001008   Male      No          0      Graduate            No   \n",
       "\n",
       "   ApplicantIncome  CoapplicantIncome  LoanAmount  Loan_Amount_Term  \\\n",
       "0             5849                0.0       128.0             360.0   \n",
       "1             4583             1508.0       128.0             360.0   \n",
       "2             3000                0.0        66.0             360.0   \n",
       "3             2583             2358.0       120.0             360.0   \n",
       "4             6000                0.0       141.0             360.0   \n",
       "\n",
       "   Credit_History Property_Area Loan_Status  \n",
       "0             1.0         Urban           Y  \n",
       "1             1.0         Rural           N  \n",
       "2             1.0         Urban           Y  \n",
       "3             1.0         Urban           Y  \n",
       "4             1.0         Urban           Y  "
      ]
     },
     "execution_count": 9,
     "metadata": {},
     "output_type": "execute_result"
    }
   ],
   "source": [
    "from scipy.stats import zscore\n",
    "columns=loan_df[['ApplicantIncome','CoapplicantIncome','LoanAmount','Loan_Amount_Term','Credit_History']]\n",
    "z=np.abs(zscore(columns))\n",
    "\n",
    "new_df = loan_df[(z<3).all(axis=1)]\n",
    "new_df.head()\n"
   ]
  },
  {
   "cell_type": "code",
   "execution_count": 60,
   "id": "65d3f1bd",
   "metadata": {},
   "outputs": [
    {
     "name": "stdout",
     "output_type": "stream",
     "text": [
      "(614, 13)\n",
      "(577, 13)\n"
     ]
    }
   ],
   "source": [
    "print(loan_df.shape)\n",
    "print(new_df.shape)\n"
   ]
  },
  {
   "cell_type": "code",
   "execution_count": 64,
   "id": "e577267a",
   "metadata": {},
   "outputs": [
    {
     "data": {
      "text/plain": [
       "6.026058631921824"
      ]
     },
     "execution_count": 64,
     "metadata": {},
     "output_type": "execute_result"
    }
   ],
   "source": [
    "data_loss =((614-577)/614)*100\n",
    "data_loss"
   ]
  },
  {
   "cell_type": "markdown",
   "id": "3d272554",
   "metadata": {},
   "source": [
    "34 rows are removed as they contain outliers."
   ]
  },
  {
   "cell_type": "markdown",
   "id": "53015219",
   "metadata": {},
   "source": [
    "# Skewness"
   ]
  },
  {
   "cell_type": "code",
   "execution_count": 10,
   "id": "584bdb7d",
   "metadata": {},
   "outputs": [
    {
     "data": {
      "text/plain": [
       "ApplicantIncome      2.148522\n",
       "CoapplicantIncome    1.350517\n",
       "LoanAmount           1.151525\n",
       "Loan_Amount_Term    -2.098806\n",
       "Credit_History      -1.976043\n",
       "dtype: float64"
      ]
     },
     "execution_count": 10,
     "metadata": {},
     "output_type": "execute_result"
    }
   ],
   "source": [
    "new_df.skew()"
   ]
  },
  {
   "cell_type": "markdown",
   "id": "4c275b33",
   "metadata": {},
   "source": [
    "all  numerical columns are not in range +/- 5."
   ]
  },
  {
   "cell_type": "code",
   "execution_count": 11,
   "id": "ca6dc74e",
   "metadata": {},
   "outputs": [],
   "source": [
    "from sklearn.preprocessing import PowerTransformer\n",
    "skewed_features = [\"ApplicantIncome\",\"CoapplicantIncome\",\"LoanAmount\",\"Loan_Amount_Term\",\"Credit_History\"]\n",
    "scaler = PowerTransformer(method='yeo-johnson')\n"
   ]
  },
  {
   "cell_type": "code",
   "execution_count": 12,
   "id": "a6c4d566",
   "metadata": {},
   "outputs": [
    {
     "data": {
      "text/html": [
       "<div>\n",
       "<style scoped>\n",
       "    .dataframe tbody tr th:only-of-type {\n",
       "        vertical-align: middle;\n",
       "    }\n",
       "\n",
       "    .dataframe tbody tr th {\n",
       "        vertical-align: top;\n",
       "    }\n",
       "\n",
       "    .dataframe thead th {\n",
       "        text-align: right;\n",
       "    }\n",
       "</style>\n",
       "<table border=\"1\" class=\"dataframe\">\n",
       "  <thead>\n",
       "    <tr style=\"text-align: right;\">\n",
       "      <th></th>\n",
       "      <th>ApplicantIncome</th>\n",
       "      <th>CoapplicantIncome</th>\n",
       "      <th>LoanAmount</th>\n",
       "      <th>Loan_Amount_Term</th>\n",
       "      <th>Credit_History</th>\n",
       "    </tr>\n",
       "  </thead>\n",
       "  <tbody>\n",
       "    <tr>\n",
       "      <th>0</th>\n",
       "      <td>0.681780</td>\n",
       "      <td>-1.122446</td>\n",
       "      <td>0.000771</td>\n",
       "      <td>0.130788</td>\n",
       "      <td>0.418513</td>\n",
       "    </tr>\n",
       "    <tr>\n",
       "      <th>1</th>\n",
       "      <td>0.234783</td>\n",
       "      <td>0.744117</td>\n",
       "      <td>0.000771</td>\n",
       "      <td>0.130788</td>\n",
       "      <td>0.418513</td>\n",
       "    </tr>\n",
       "    <tr>\n",
       "      <th>2</th>\n",
       "      <td>-0.527201</td>\n",
       "      <td>-1.122446</td>\n",
       "      <td>-1.437336</td>\n",
       "      <td>0.130788</td>\n",
       "      <td>0.418513</td>\n",
       "    </tr>\n",
       "    <tr>\n",
       "      <th>3</th>\n",
       "      <td>-0.791972</td>\n",
       "      <td>0.895786</td>\n",
       "      <td>-0.153545</td>\n",
       "      <td>0.130788</td>\n",
       "      <td>0.418513</td>\n",
       "    </tr>\n",
       "    <tr>\n",
       "      <th>4</th>\n",
       "      <td>0.728848</td>\n",
       "      <td>-1.122446</td>\n",
       "      <td>0.238260</td>\n",
       "      <td>0.130788</td>\n",
       "      <td>0.418513</td>\n",
       "    </tr>\n",
       "  </tbody>\n",
       "</table>\n",
       "</div>"
      ],
      "text/plain": [
       "   ApplicantIncome  CoapplicantIncome  LoanAmount  Loan_Amount_Term  \\\n",
       "0         0.681780          -1.122446    0.000771          0.130788   \n",
       "1         0.234783           0.744117    0.000771          0.130788   \n",
       "2        -0.527201          -1.122446   -1.437336          0.130788   \n",
       "3        -0.791972           0.895786   -0.153545          0.130788   \n",
       "4         0.728848          -1.122446    0.238260          0.130788   \n",
       "\n",
       "   Credit_History  \n",
       "0        0.418513  \n",
       "1        0.418513  \n",
       "2        0.418513  \n",
       "3        0.418513  \n",
       "4        0.418513  "
      ]
     },
     "execution_count": 12,
     "metadata": {},
     "output_type": "execute_result"
    }
   ],
   "source": [
    "new_df[skewed_features] = scaler.fit_transform(new_df[skewed_features].values)\n",
    "new_df[skewed_features].head()\n"
   ]
  },
  {
   "cell_type": "code",
   "execution_count": 70,
   "id": "dc69a35a",
   "metadata": {},
   "outputs": [
    {
     "data": {
      "image/png": "[encoded data removed]",
      "text/plain": [
       "<Figure size 432x288 with 1 Axes>"
      ]
     },
     "metadata": {
      "needs_background": "light"
     },
     "output_type": "display_data"
    },
    {
     "data": {
      "image/png": "[encoded data removed]",
      "text/plain": [
       "<Figure size 432x288 with 1 Axes>"
      ]
     },
     "metadata": {
      "needs_background": "light"
     },
     "output_type": "display_data"
    },
    {
     "data": {
      "image/png": "[encoded data removed]",
      "text/plain": [
       "<Figure size 432x288 with 1 Axes>"
      ]
     },
     "metadata": {
      "needs_background": "light"
     },
     "output_type": "display_data"
    },
    {
     "data": {
      "image/png": "[encoded data removed]",
      "text/plain": [
       "<Figure size 432x288 with 1 Axes>"
      ]
     },
     "metadata": {
      "needs_background": "light"
     },
     "output_type": "display_data"
    },
    {
     "data": {
      "image/png": "[encoded data removed]",
      "text/plain": [
       "<Figure size 432x288 with 1 Axes>"
      ]
     },
     "metadata": {
      "needs_background": "light"
     },
     "output_type": "display_data"
    }
   ],
   "source": [
    "## Let us again check whether data is normally distributed or not:-\n",
    "column =[\"ApplicantIncome\",\"CoapplicantIncome\",\"LoanAmount\",\"Loan_Amount_Term\",\"Credit_History\"]\n",
    "for i in column:\n",
    "    sns.distplot(new_df[i])\n",
    "    plt.show()"
   ]
  },
  {
   "cell_type": "markdown",
   "id": "b1a645b0",
   "metadata": {},
   "source": [
    "Since we have already removed skewed data and our data set is very small.so now will proceed to next step."
   ]
  },
  {
   "cell_type": "code",
   "execution_count": null,
   "id": "04aff641",
   "metadata": {},
   "outputs": [],
   "source": [
    "## Converting Categorical data to numerical data for Model training and Testing:-"
   ]
  },
  {
   "cell_type": "markdown",
   "id": "7bb35e82",
   "metadata": {},
   "source": [
    "# Label Encoder"
   ]
  },
  {
   "cell_type": "code",
   "execution_count": 71,
   "id": "048dc757",
   "metadata": {},
   "outputs": [
    {
     "data": {
      "text/html": [
       "<div>\n",
       "<style scoped>\n",
       "    .dataframe tbody tr th:only-of-type {\n",
       "        vertical-align: middle;\n",
       "    }\n",
       "\n",
       "    .dataframe tbody tr th {\n",
       "        vertical-align: top;\n",
       "    }\n",
       "\n",
       "    .dataframe thead th {\n",
       "        text-align: right;\n",
       "    }\n",
       "</style>\n",
       "<table border=\"1\" class=\"dataframe\">\n",
       "  <thead>\n",
       "    <tr style=\"text-align: right;\">\n",
       "      <th></th>\n",
       "      <th>Loan_ID</th>\n",
       "      <th>Gender</th>\n",
       "      <th>Married</th>\n",
       "      <th>Dependents</th>\n",
       "      <th>Education</th>\n",
       "      <th>Self_Employed</th>\n",
       "      <th>ApplicantIncome</th>\n",
       "      <th>CoapplicantIncome</th>\n",
       "      <th>LoanAmount</th>\n",
       "      <th>Loan_Amount_Term</th>\n",
       "      <th>Credit_History</th>\n",
       "      <th>Property_Area</th>\n",
       "      <th>Loan_Status</th>\n",
       "    </tr>\n",
       "  </thead>\n",
       "  <tbody>\n",
       "    <tr>\n",
       "      <th>0</th>\n",
       "      <td>LP001002</td>\n",
       "      <td>Male</td>\n",
       "      <td>No</td>\n",
       "      <td>0</td>\n",
       "      <td>Graduate</td>\n",
       "      <td>No</td>\n",
       "      <td>0.681780</td>\n",
       "      <td>-1.122446</td>\n",
       "      <td>0.000771</td>\n",
       "      <td>0.130788</td>\n",
       "      <td>0.418513</td>\n",
       "      <td>Urban</td>\n",
       "      <td>Y</td>\n",
       "    </tr>\n",
       "    <tr>\n",
       "      <th>1</th>\n",
       "      <td>LP001003</td>\n",
       "      <td>Male</td>\n",
       "      <td>Yes</td>\n",
       "      <td>1</td>\n",
       "      <td>Graduate</td>\n",
       "      <td>No</td>\n",
       "      <td>0.234783</td>\n",
       "      <td>0.744117</td>\n",
       "      <td>0.000771</td>\n",
       "      <td>0.130788</td>\n",
       "      <td>0.418513</td>\n",
       "      <td>Rural</td>\n",
       "      <td>N</td>\n",
       "    </tr>\n",
       "    <tr>\n",
       "      <th>2</th>\n",
       "      <td>LP001005</td>\n",
       "      <td>Male</td>\n",
       "      <td>Yes</td>\n",
       "      <td>0</td>\n",
       "      <td>Graduate</td>\n",
       "      <td>Yes</td>\n",
       "      <td>-0.527201</td>\n",
       "      <td>-1.122446</td>\n",
       "      <td>-1.437336</td>\n",
       "      <td>0.130788</td>\n",
       "      <td>0.418513</td>\n",
       "      <td>Urban</td>\n",
       "      <td>Y</td>\n",
       "    </tr>\n",
       "    <tr>\n",
       "      <th>3</th>\n",
       "      <td>LP001006</td>\n",
       "      <td>Male</td>\n",
       "      <td>Yes</td>\n",
       "      <td>0</td>\n",
       "      <td>Not Graduate</td>\n",
       "      <td>No</td>\n",
       "      <td>-0.791972</td>\n",
       "      <td>0.895786</td>\n",
       "      <td>-0.153545</td>\n",
       "      <td>0.130788</td>\n",
       "      <td>0.418513</td>\n",
       "      <td>Urban</td>\n",
       "      <td>Y</td>\n",
       "    </tr>\n",
       "    <tr>\n",
       "      <th>4</th>\n",
       "      <td>LP001008</td>\n",
       "      <td>Male</td>\n",
       "      <td>No</td>\n",
       "      <td>0</td>\n",
       "      <td>Graduate</td>\n",
       "      <td>No</td>\n",
       "      <td>0.728848</td>\n",
       "      <td>-1.122446</td>\n",
       "      <td>0.238260</td>\n",
       "      <td>0.130788</td>\n",
       "      <td>0.418513</td>\n",
       "      <td>Urban</td>\n",
       "      <td>Y</td>\n",
       "    </tr>\n",
       "  </tbody>\n",
       "</table>\n",
       "</div>"
      ],
      "text/plain": [
       "    Loan_ID Gender Married Dependents     Education Self_Employed  \\\n",
       "0  LP001002   Male      No          0      Graduate            No   \n",
       "1  LP001003   Male     Yes          1      Graduate            No   \n",
       "2  LP001005   Male     Yes          0      Graduate           Yes   \n",
       "3  LP001006   Male     Yes          0  Not Graduate            No   \n",
       "4  LP001008   Male      No          0      Graduate            No   \n",
       "\n",
       "   ApplicantIncome  CoapplicantIncome  LoanAmount  Loan_Amount_Term  \\\n",
       "0         0.681780          -1.122446    0.000771          0.130788   \n",
       "1         0.234783           0.744117    0.000771          0.130788   \n",
       "2        -0.527201          -1.122446   -1.437336          0.130788   \n",
       "3        -0.791972           0.895786   -0.153545          0.130788   \n",
       "4         0.728848          -1.122446    0.238260          0.130788   \n",
       "\n",
       "   Credit_History Property_Area Loan_Status  \n",
       "0        0.418513         Urban           Y  \n",
       "1        0.418513         Rural           N  \n",
       "2        0.418513         Urban           Y  \n",
       "3        0.418513         Urban           Y  \n",
       "4        0.418513         Urban           Y  "
      ]
     },
     "execution_count": 71,
     "metadata": {},
     "output_type": "execute_result"
    }
   ],
   "source": [
    "new_df.head()"
   ]
  },
  {
   "cell_type": "code",
   "execution_count": 13,
   "id": "8e1820fe",
   "metadata": {},
   "outputs": [],
   "source": [
    "##Loan_Id is not a necessary colimn to decide loan status,it is just for identification,so will remove this column.\n",
    "new_df.drop('Loan_ID',axis=1,inplace =True)"
   ]
  },
  {
   "cell_type": "code",
   "execution_count": 73,
   "id": "42f98e01",
   "metadata": {},
   "outputs": [
    {
     "data": {
      "text/html": [
       "<div>\n",
       "<style scoped>\n",
       "    .dataframe tbody tr th:only-of-type {\n",
       "        vertical-align: middle;\n",
       "    }\n",
       "\n",
       "    .dataframe tbody tr th {\n",
       "        vertical-align: top;\n",
       "    }\n",
       "\n",
       "    .dataframe thead th {\n",
       "        text-align: right;\n",
       "    }\n",
       "</style>\n",
       "<table border=\"1\" class=\"dataframe\">\n",
       "  <thead>\n",
       "    <tr style=\"text-align: right;\">\n",
       "      <th></th>\n",
       "      <th>Gender</th>\n",
       "      <th>Married</th>\n",
       "      <th>Dependents</th>\n",
       "      <th>Education</th>\n",
       "      <th>Self_Employed</th>\n",
       "      <th>ApplicantIncome</th>\n",
       "      <th>CoapplicantIncome</th>\n",
       "      <th>LoanAmount</th>\n",
       "      <th>Loan_Amount_Term</th>\n",
       "      <th>Credit_History</th>\n",
       "      <th>Property_Area</th>\n",
       "      <th>Loan_Status</th>\n",
       "    </tr>\n",
       "  </thead>\n",
       "  <tbody>\n",
       "    <tr>\n",
       "      <th>0</th>\n",
       "      <td>Male</td>\n",
       "      <td>No</td>\n",
       "      <td>0</td>\n",
       "      <td>Graduate</td>\n",
       "      <td>No</td>\n",
       "      <td>0.681780</td>\n",
       "      <td>-1.122446</td>\n",
       "      <td>0.000771</td>\n",
       "      <td>0.130788</td>\n",
       "      <td>0.418513</td>\n",
       "      <td>Urban</td>\n",
       "      <td>Y</td>\n",
       "    </tr>\n",
       "    <tr>\n",
       "      <th>1</th>\n",
       "      <td>Male</td>\n",
       "      <td>Yes</td>\n",
       "      <td>1</td>\n",
       "      <td>Graduate</td>\n",
       "      <td>No</td>\n",
       "      <td>0.234783</td>\n",
       "      <td>0.744117</td>\n",
       "      <td>0.000771</td>\n",
       "      <td>0.130788</td>\n",
       "      <td>0.418513</td>\n",
       "      <td>Rural</td>\n",
       "      <td>N</td>\n",
       "    </tr>\n",
       "    <tr>\n",
       "      <th>2</th>\n",
       "      <td>Male</td>\n",
       "      <td>Yes</td>\n",
       "      <td>0</td>\n",
       "      <td>Graduate</td>\n",
       "      <td>Yes</td>\n",
       "      <td>-0.527201</td>\n",
       "      <td>-1.122446</td>\n",
       "      <td>-1.437336</td>\n",
       "      <td>0.130788</td>\n",
       "      <td>0.418513</td>\n",
       "      <td>Urban</td>\n",
       "      <td>Y</td>\n",
       "    </tr>\n",
       "    <tr>\n",
       "      <th>3</th>\n",
       "      <td>Male</td>\n",
       "      <td>Yes</td>\n",
       "      <td>0</td>\n",
       "      <td>Not Graduate</td>\n",
       "      <td>No</td>\n",
       "      <td>-0.791972</td>\n",
       "      <td>0.895786</td>\n",
       "      <td>-0.153545</td>\n",
       "      <td>0.130788</td>\n",
       "      <td>0.418513</td>\n",
       "      <td>Urban</td>\n",
       "      <td>Y</td>\n",
       "    </tr>\n",
       "    <tr>\n",
       "      <th>4</th>\n",
       "      <td>Male</td>\n",
       "      <td>No</td>\n",
       "      <td>0</td>\n",
       "      <td>Graduate</td>\n",
       "      <td>No</td>\n",
       "      <td>0.728848</td>\n",
       "      <td>-1.122446</td>\n",
       "      <td>0.238260</td>\n",
       "      <td>0.130788</td>\n",
       "      <td>0.418513</td>\n",
       "      <td>Urban</td>\n",
       "      <td>Y</td>\n",
       "    </tr>\n",
       "  </tbody>\n",
       "</table>\n",
       "</div>"
      ],
      "text/plain": [
       "  Gender Married Dependents     Education Self_Employed  ApplicantIncome  \\\n",
       "0   Male      No          0      Graduate            No         0.681780   \n",
       "1   Male     Yes          1      Graduate            No         0.234783   \n",
       "2   Male     Yes          0      Graduate           Yes        -0.527201   \n",
       "3   Male     Yes          0  Not Graduate            No        -0.791972   \n",
       "4   Male      No          0      Graduate            No         0.728848   \n",
       "\n",
       "   CoapplicantIncome  LoanAmount  Loan_Amount_Term  Credit_History  \\\n",
       "0          -1.122446    0.000771          0.130788        0.418513   \n",
       "1           0.744117    0.000771          0.130788        0.418513   \n",
       "2          -1.122446   -1.437336          0.130788        0.418513   \n",
       "3           0.895786   -0.153545          0.130788        0.418513   \n",
       "4          -1.122446    0.238260          0.130788        0.418513   \n",
       "\n",
       "  Property_Area Loan_Status  \n",
       "0         Urban           Y  \n",
       "1         Rural           N  \n",
       "2         Urban           Y  \n",
       "3         Urban           Y  \n",
       "4         Urban           Y  "
      ]
     },
     "execution_count": 73,
     "metadata": {},
     "output_type": "execute_result"
    }
   ],
   "source": [
    "new_df.head()"
   ]
  },
  {
   "cell_type": "code",
   "execution_count": 14,
   "id": "37adc69d",
   "metadata": {},
   "outputs": [],
   "source": [
    "columns =['Gender','Married','Dependents','Education','Self_Employed','Credit_History','Property_Area','Loan_Status']\n",
    "from sklearn.preprocessing import LabelEncoder\n",
    "le=LabelEncoder()\n",
    "new_df[columns]= new_df[columns].apply(le.fit_transform)\n"
   ]
  },
  {
   "cell_type": "code",
   "execution_count": 75,
   "id": "f1a540ff",
   "metadata": {},
   "outputs": [
    {
     "data": {
      "text/html": [
       "<div>\n",
       "<style scoped>\n",
       "    .dataframe tbody tr th:only-of-type {\n",
       "        vertical-align: middle;\n",
       "    }\n",
       "\n",
       "    .dataframe tbody tr th {\n",
       "        vertical-align: top;\n",
       "    }\n",
       "\n",
       "    .dataframe thead th {\n",
       "        text-align: right;\n",
       "    }\n",
       "</style>\n",
       "<table border=\"1\" class=\"dataframe\">\n",
       "  <thead>\n",
       "    <tr style=\"text-align: right;\">\n",
       "      <th></th>\n",
       "      <th>Gender</th>\n",
       "      <th>Married</th>\n",
       "      <th>Dependents</th>\n",
       "      <th>Education</th>\n",
       "      <th>Self_Employed</th>\n",
       "      <th>ApplicantIncome</th>\n",
       "      <th>CoapplicantIncome</th>\n",
       "      <th>LoanAmount</th>\n",
       "      <th>Loan_Amount_Term</th>\n",
       "      <th>Credit_History</th>\n",
       "      <th>Property_Area</th>\n",
       "      <th>Loan_Status</th>\n",
       "    </tr>\n",
       "  </thead>\n",
       "  <tbody>\n",
       "    <tr>\n",
       "      <th>0</th>\n",
       "      <td>1</td>\n",
       "      <td>0</td>\n",
       "      <td>0</td>\n",
       "      <td>0</td>\n",
       "      <td>0</td>\n",
       "      <td>0.681780</td>\n",
       "      <td>-1.122446</td>\n",
       "      <td>0.000771</td>\n",
       "      <td>0.130788</td>\n",
       "      <td>1</td>\n",
       "      <td>2</td>\n",
       "      <td>1</td>\n",
       "    </tr>\n",
       "    <tr>\n",
       "      <th>1</th>\n",
       "      <td>1</td>\n",
       "      <td>1</td>\n",
       "      <td>1</td>\n",
       "      <td>0</td>\n",
       "      <td>0</td>\n",
       "      <td>0.234783</td>\n",
       "      <td>0.744117</td>\n",
       "      <td>0.000771</td>\n",
       "      <td>0.130788</td>\n",
       "      <td>1</td>\n",
       "      <td>0</td>\n",
       "      <td>0</td>\n",
       "    </tr>\n",
       "    <tr>\n",
       "      <th>2</th>\n",
       "      <td>1</td>\n",
       "      <td>1</td>\n",
       "      <td>0</td>\n",
       "      <td>0</td>\n",
       "      <td>1</td>\n",
       "      <td>-0.527201</td>\n",
       "      <td>-1.122446</td>\n",
       "      <td>-1.437336</td>\n",
       "      <td>0.130788</td>\n",
       "      <td>1</td>\n",
       "      <td>2</td>\n",
       "      <td>1</td>\n",
       "    </tr>\n",
       "    <tr>\n",
       "      <th>3</th>\n",
       "      <td>1</td>\n",
       "      <td>1</td>\n",
       "      <td>0</td>\n",
       "      <td>1</td>\n",
       "      <td>0</td>\n",
       "      <td>-0.791972</td>\n",
       "      <td>0.895786</td>\n",
       "      <td>-0.153545</td>\n",
       "      <td>0.130788</td>\n",
       "      <td>1</td>\n",
       "      <td>2</td>\n",
       "      <td>1</td>\n",
       "    </tr>\n",
       "    <tr>\n",
       "      <th>4</th>\n",
       "      <td>1</td>\n",
       "      <td>0</td>\n",
       "      <td>0</td>\n",
       "      <td>0</td>\n",
       "      <td>0</td>\n",
       "      <td>0.728848</td>\n",
       "      <td>-1.122446</td>\n",
       "      <td>0.238260</td>\n",
       "      <td>0.130788</td>\n",
       "      <td>1</td>\n",
       "      <td>2</td>\n",
       "      <td>1</td>\n",
       "    </tr>\n",
       "  </tbody>\n",
       "</table>\n",
       "</div>"
      ],
      "text/plain": [
       "   Gender  Married  Dependents  Education  Self_Employed  ApplicantIncome  \\\n",
       "0       1        0           0          0              0         0.681780   \n",
       "1       1        1           1          0              0         0.234783   \n",
       "2       1        1           0          0              1        -0.527201   \n",
       "3       1        1           0          1              0        -0.791972   \n",
       "4       1        0           0          0              0         0.728848   \n",
       "\n",
       "   CoapplicantIncome  LoanAmount  Loan_Amount_Term  Credit_History  \\\n",
       "0          -1.122446    0.000771          0.130788               1   \n",
       "1           0.744117    0.000771          0.130788               1   \n",
       "2          -1.122446   -1.437336          0.130788               1   \n",
       "3           0.895786   -0.153545          0.130788               1   \n",
       "4          -1.122446    0.238260          0.130788               1   \n",
       "\n",
       "   Property_Area  Loan_Status  \n",
       "0              2            1  \n",
       "1              0            0  \n",
       "2              2            1  \n",
       "3              2            1  \n",
       "4              2            1  "
      ]
     },
     "execution_count": 75,
     "metadata": {},
     "output_type": "execute_result"
    }
   ],
   "source": [
    "new_df.head()"
   ]
  },
  {
   "cell_type": "markdown",
   "id": "c418eaa7",
   "metadata": {},
   "source": [
    "**Gender Column:-\n",
    "0-Female\n",
    "1-Male\n",
    "** Married Column:-\n",
    " Not Married -0\n",
    "Married-1\n",
    "** Education Column:-\n",
    "Graduate-0\n",
    "Not Graduate-1\n",
    "**Self_Employed Column:-\n",
    "Not self employed-0\n",
    "self employed -1\n",
    "** Property_Area column:-\n",
    "Rural-0\n",
    "SemiUrban-1\n",
    "Urban-2\n",
    "** Loan_Status column:-\n",
    "No-0\n",
    "Yes-1\n",
    "    "
   ]
  },
  {
   "cell_type": "code",
   "execution_count": 15,
   "id": "76ee829a",
   "metadata": {},
   "outputs": [],
   "source": [
    "##Let us split data into features and label:-\n",
    "x=new_df.drop('Loan_Status',axis=1)\n",
    "y= new_df['Loan_Status']  "
   ]
  },
  {
   "cell_type": "code",
   "execution_count": 16,
   "id": "a6fa3107",
   "metadata": {},
   "outputs": [
    {
     "data": {
      "text/plain": [
       "((577, 11), (577,))"
      ]
     },
     "execution_count": 16,
     "metadata": {},
     "output_type": "execute_result"
    }
   ],
   "source": [
    "x.shape,y.shape"
   ]
  },
  {
   "cell_type": "code",
   "execution_count": 17,
   "id": "f0085fd5",
   "metadata": {},
   "outputs": [
    {
     "data": {
      "text/plain": [
       "1    398\n",
       "0    179\n",
       "Name: Loan_Status, dtype: int64"
      ]
     },
     "execution_count": 17,
     "metadata": {},
     "output_type": "execute_result"
    }
   ],
   "source": [
    "y.value_counts()"
   ]
  },
  {
   "cell_type": "markdown",
   "id": "771c8582",
   "metadata": {},
   "source": [
    "Since the data is not balanced ,so will balance it through oversampling,beacuse we have very small dataset and  in\n",
    "oversampling technique,no loss of information. "
   ]
  },
  {
   "cell_type": "code",
   "execution_count": 18,
   "id": "8eaeb2d8",
   "metadata": {},
   "outputs": [],
   "source": [
    "from imblearn.over_sampling import SMOTE\n",
    "SM = SMOTE()\n",
    "x, y = SM.fit_resample(x,y)\n"
   ]
  },
  {
   "cell_type": "code",
   "execution_count": 80,
   "id": "3b7f049f",
   "metadata": {},
   "outputs": [
    {
     "data": {
      "text/plain": [
       "0    398\n",
       "1    398\n",
       "Name: Loan_Status, dtype: int64"
      ]
     },
     "execution_count": 80,
     "metadata": {},
     "output_type": "execute_result"
    }
   ],
   "source": [
    "y.value_counts()"
   ]
  },
  {
   "cell_type": "code",
   "execution_count": 19,
   "id": "b32251a4",
   "metadata": {},
   "outputs": [
    {
     "data": {
      "text/plain": [
       "<AxesSubplot:xlabel='Loan_Status', ylabel='count'>"
      ]
     },
     "execution_count": 19,
     "metadata": {},
     "output_type": "execute_result"
    },
    {
     "data": {
      "image/png": "[encoded data removed]",
      "text/plain": [
       "<Figure size 432x288 with 1 Axes>"
      ]
     },
     "metadata": {
      "needs_background": "light"
     },
     "output_type": "display_data"
    }
   ],
   "source": [
    "sns.countplot(y)"
   ]
  },
  {
   "cell_type": "markdown",
   "id": "2002fac1",
   "metadata": {},
   "source": [
    "# Scaling using Standard Scaler:-"
   ]
  },
  {
   "cell_type": "code",
   "execution_count": 20,
   "id": "19880fd0",
   "metadata": {},
   "outputs": [],
   "source": [
    "from sklearn.preprocessing import StandardScaler\n",
    "scaler=StandardScaler()\n",
    "x = pd.DataFrame(scaler.fit_transform(x), columns=x.columns)\n"
   ]
  },
  {
   "cell_type": "code",
   "execution_count": 84,
   "id": "81546f0f",
   "metadata": {},
   "outputs": [
    {
     "data": {
      "text/html": [
       "<div>\n",
       "<style scoped>\n",
       "    .dataframe tbody tr th:only-of-type {\n",
       "        vertical-align: middle;\n",
       "    }\n",
       "\n",
       "    .dataframe tbody tr th {\n",
       "        vertical-align: top;\n",
       "    }\n",
       "\n",
       "    .dataframe thead th {\n",
       "        text-align: right;\n",
       "    }\n",
       "</style>\n",
       "<table border=\"1\" class=\"dataframe\">\n",
       "  <thead>\n",
       "    <tr style=\"text-align: right;\">\n",
       "      <th></th>\n",
       "      <th>Gender</th>\n",
       "      <th>Married</th>\n",
       "      <th>Dependents</th>\n",
       "      <th>Education</th>\n",
       "      <th>Self_Employed</th>\n",
       "      <th>ApplicantIncome</th>\n",
       "      <th>CoapplicantIncome</th>\n",
       "      <th>LoanAmount</th>\n",
       "      <th>Loan_Amount_Term</th>\n",
       "      <th>Credit_History</th>\n",
       "      <th>Property_Area</th>\n",
       "    </tr>\n",
       "  </thead>\n",
       "  <tbody>\n",
       "    <tr>\n",
       "      <th>0</th>\n",
       "      <td>0.515268</td>\n",
       "      <td>-1.216450</td>\n",
       "      <td>-0.700503</td>\n",
       "      <td>-0.503531</td>\n",
       "      <td>-0.336581</td>\n",
       "      <td>0.680144</td>\n",
       "      <td>-1.070563</td>\n",
       "      <td>-0.026314</td>\n",
       "      <td>0.098148</td>\n",
       "      <td>0.616076</td>\n",
       "      <td>1.234775</td>\n",
       "    </tr>\n",
       "    <tr>\n",
       "      <th>1</th>\n",
       "      <td>0.515268</td>\n",
       "      <td>0.822064</td>\n",
       "      <td>0.330182</td>\n",
       "      <td>-0.503531</td>\n",
       "      <td>-0.336581</td>\n",
       "      <td>0.222023</td>\n",
       "      <td>0.788269</td>\n",
       "      <td>-0.026314</td>\n",
       "      <td>0.098148</td>\n",
       "      <td>0.616076</td>\n",
       "      <td>-1.256685</td>\n",
       "    </tr>\n",
       "    <tr>\n",
       "      <th>2</th>\n",
       "      <td>0.515268</td>\n",
       "      <td>0.822064</td>\n",
       "      <td>-0.700503</td>\n",
       "      <td>-0.503531</td>\n",
       "      <td>2.971054</td>\n",
       "      <td>-0.558923</td>\n",
       "      <td>-1.070563</td>\n",
       "      <td>-1.515960</td>\n",
       "      <td>0.098148</td>\n",
       "      <td>0.616076</td>\n",
       "      <td>1.234775</td>\n",
       "    </tr>\n",
       "    <tr>\n",
       "      <th>3</th>\n",
       "      <td>0.515268</td>\n",
       "      <td>0.822064</td>\n",
       "      <td>-0.700503</td>\n",
       "      <td>1.985976</td>\n",
       "      <td>-0.336581</td>\n",
       "      <td>-0.830283</td>\n",
       "      <td>0.939311</td>\n",
       "      <td>-0.186161</td>\n",
       "      <td>0.098148</td>\n",
       "      <td>0.616076</td>\n",
       "      <td>1.234775</td>\n",
       "    </tr>\n",
       "    <tr>\n",
       "      <th>4</th>\n",
       "      <td>0.515268</td>\n",
       "      <td>-1.216450</td>\n",
       "      <td>-0.700503</td>\n",
       "      <td>-0.503531</td>\n",
       "      <td>-0.336581</td>\n",
       "      <td>0.728383</td>\n",
       "      <td>-1.070563</td>\n",
       "      <td>0.219687</td>\n",
       "      <td>0.098148</td>\n",
       "      <td>0.616076</td>\n",
       "      <td>1.234775</td>\n",
       "    </tr>\n",
       "  </tbody>\n",
       "</table>\n",
       "</div>"
      ],
      "text/plain": [
       "     Gender   Married  Dependents  Education  Self_Employed  ApplicantIncome  \\\n",
       "0  0.515268 -1.216450   -0.700503  -0.503531      -0.336581         0.680144   \n",
       "1  0.515268  0.822064    0.330182  -0.503531      -0.336581         0.222023   \n",
       "2  0.515268  0.822064   -0.700503  -0.503531       2.971054        -0.558923   \n",
       "3  0.515268  0.822064   -0.700503   1.985976      -0.336581        -0.830283   \n",
       "4  0.515268 -1.216450   -0.700503  -0.503531      -0.336581         0.728383   \n",
       "\n",
       "   CoapplicantIncome  LoanAmount  Loan_Amount_Term  Credit_History  \\\n",
       "0          -1.070563   -0.026314          0.098148        0.616076   \n",
       "1           0.788269   -0.026314          0.098148        0.616076   \n",
       "2          -1.070563   -1.515960          0.098148        0.616076   \n",
       "3           0.939311   -0.186161          0.098148        0.616076   \n",
       "4          -1.070563    0.219687          0.098148        0.616076   \n",
       "\n",
       "   Property_Area  \n",
       "0       1.234775  \n",
       "1      -1.256685  \n",
       "2       1.234775  \n",
       "3       1.234775  \n",
       "4       1.234775  "
      ]
     },
     "execution_count": 84,
     "metadata": {},
     "output_type": "execute_result"
    }
   ],
   "source": [
    "x.head()"
   ]
  },
  {
   "cell_type": "markdown",
   "id": "92b6eb0c",
   "metadata": {},
   "source": [
    "All values are now in +/- 1 range."
   ]
  },
  {
   "cell_type": "markdown",
   "id": "ffc1b177",
   "metadata": {},
   "source": [
    "# Finding Best Random State:-"
   ]
  },
  {
   "cell_type": "code",
   "execution_count": 21,
   "id": "f758377f",
   "metadata": {},
   "outputs": [
    {
     "name": "stdout",
     "output_type": "stream",
     "text": [
      "Best accuracy is  0.8284518828451883  on Random_state  177\n"
     ]
    }
   ],
   "source": [
    "from sklearn.linear_model import LogisticRegression\n",
    "from sklearn.model_selection import train_test_split\n",
    "from sklearn.metrics import accuracy_score\n",
    "maxAccu=0\n",
    "maxRS=0\n",
    "for i in range(1,200):\n",
    "    x_train,x_test,y_train,y_test = train_test_split(x,y,test_size=.30, random_state =i)\n",
    "    lgr = LogisticRegression()\n",
    "    lgr.fit(x_train, y_train)\n",
    "    pred = lgr.predict(x_test)\n",
    "    acc=accuracy_score(y_test, pred)\n",
    "    if acc>maxAccu:\n",
    "        maxAccu=acc\n",
    "        maxRS=i\n",
    "print(\"Best accuracy is \",maxAccu,\" on Random_state \",maxRS)\n"
   ]
  },
  {
   "cell_type": "markdown",
   "id": "c523a16f",
   "metadata": {},
   "source": [
    "# Train Test Split"
   ]
  },
  {
   "cell_type": "code",
   "execution_count": 22,
   "id": "b93f3a92",
   "metadata": {},
   "outputs": [],
   "source": [
    "x_train,x_test,y_train,y_test=train_test_split(x,y,test_size=.30,random_state=maxRS)\n"
   ]
  },
  {
   "cell_type": "code",
   "execution_count": 87,
   "id": "9fc1c066",
   "metadata": {},
   "outputs": [
    {
     "data": {
      "text/plain": [
       "(557, 11)"
      ]
     },
     "execution_count": 87,
     "metadata": {},
     "output_type": "execute_result"
    }
   ],
   "source": [
    "x_train.shape"
   ]
  },
  {
   "cell_type": "code",
   "execution_count": 88,
   "id": "97b32cb3",
   "metadata": {},
   "outputs": [
    {
     "data": {
      "text/plain": [
       "(239, 11)"
      ]
     },
     "execution_count": 88,
     "metadata": {},
     "output_type": "execute_result"
    }
   ],
   "source": [
    "x_test.shape"
   ]
  },
  {
   "cell_type": "code",
   "execution_count": 89,
   "id": "11022423",
   "metadata": {},
   "outputs": [
    {
     "data": {
      "text/plain": [
       "(557,)"
      ]
     },
     "execution_count": 89,
     "metadata": {},
     "output_type": "execute_result"
    }
   ],
   "source": [
    "y_train.shape"
   ]
  },
  {
   "cell_type": "code",
   "execution_count": 90,
   "id": "b54827dc",
   "metadata": {},
   "outputs": [
    {
     "data": {
      "text/plain": [
       "(239,)"
      ]
     },
     "execution_count": 90,
     "metadata": {},
     "output_type": "execute_result"
    }
   ],
   "source": [
    "y_test.shape"
   ]
  },
  {
   "cell_type": "code",
   "execution_count": 23,
   "id": "2d24c5f4",
   "metadata": {},
   "outputs": [],
   "source": [
    "from sklearn.neighbors import KNeighborsClassifier\n",
    "from sklearn.svm import SVC\n",
    "from sklearn.tree import DecisionTreeClassifier\n",
    "from sklearn.ensemble import AdaBoostClassifier\n",
    "from sklearn.ensemble import RandomForestClassifier\n",
    "from sklearn.metrics import classification_report, confusion_matrix, roc_curve, roc_auc_score, accuracy_score\n",
    "from sklearn.model_selection import cross_val_score\n",
    "from sklearn.metrics import plot_roc_curve\n"
   ]
  },
  {
   "cell_type": "markdown",
   "id": "896d78d5",
   "metadata": {},
   "source": [
    "# KNeighborsClassifier"
   ]
  },
  {
   "cell_type": "code",
   "execution_count": 24,
   "id": "87efaac9",
   "metadata": {},
   "outputs": [
    {
     "name": "stdout",
     "output_type": "stream",
     "text": [
      "0.7573221757322176\n",
      "[[ 78  30]\n",
      " [ 28 103]]\n",
      "              precision    recall  f1-score   support\n",
      "\n",
      "           0       0.74      0.72      0.73       108\n",
      "           1       0.77      0.79      0.78       131\n",
      "\n",
      "    accuracy                           0.76       239\n",
      "   macro avg       0.76      0.75      0.75       239\n",
      "weighted avg       0.76      0.76      0.76       239\n",
      "\n"
     ]
    }
   ],
   "source": [
    "knc = KNeighborsClassifier()\n",
    "knc.fit(x_train,y_train)\n",
    "predknc = knc.predict(x_test)\n",
    "\n",
    "print(accuracy_score(y_test, predknc))\n",
    "print(confusion_matrix(y_test, predknc))\n",
    "print(classification_report(y_test,predknc))\n"
   ]
  },
  {
   "cell_type": "code",
   "execution_count": 25,
   "id": "c3182e5d",
   "metadata": {},
   "outputs": [
    {
     "data": {
      "text/plain": [
       "Text(0.5, 1.0, 'Confusion Matrix for Kneighbors Classifier')"
      ]
     },
     "execution_count": 25,
     "metadata": {},
     "output_type": "execute_result"
    },
    {
     "data": {
      "image/png": "[encoded data removed]",
      "text/plain": [
       "<Figure size 504x504 with 2 Axes>"
      ]
     },
     "metadata": {
      "needs_background": "light"
     },
     "output_type": "display_data"
    }
   ],
   "source": [
    "cm = confusion_matrix(y_test,predknc)\n",
    "\n",
    "x_axis_labels = [\"yes\",\"No\"]\n",
    "y_axis_labels = [\"Yes\",\"No\"]\n",
    "\n",
    "f , ax = plt.subplots(figsize=(7,7))\n",
    "sns.heatmap(cm, annot = True,linewidths=.2, linecolor=\"black\", fmt = \".0f\", ax=ax,  \n",
    "xticklabels=x_axis_labels,\n",
    "yticklabels=y_axis_labels)\n",
    "\n",
    "plt.xlabel(\"PREDICTED LABEL\")\n",
    "plt.ylabel(\"TRUE LABEL\")\n",
    "plt.title('Confusion Matrix for Kneighbors Classifier')\n"
   ]
  },
  {
   "cell_type": "markdown",
   "id": "d7c3edc6",
   "metadata": {},
   "source": [
    "True Positive-78,True Negative-103,False Positive-30,False Negative-28"
   ]
  },
  {
   "cell_type": "markdown",
   "id": "4c506685",
   "metadata": {},
   "source": [
    "# Support Vector Machine Classifier"
   ]
  },
  {
   "cell_type": "code",
   "execution_count": 26,
   "id": "011a9d22",
   "metadata": {},
   "outputs": [
    {
     "name": "stdout",
     "output_type": "stream",
     "text": [
      "0.8075313807531381\n",
      "[[ 69  39]\n",
      " [  7 124]]\n",
      "              precision    recall  f1-score   support\n",
      "\n",
      "           0       0.91      0.64      0.75       108\n",
      "           1       0.76      0.95      0.84       131\n",
      "\n",
      "    accuracy                           0.81       239\n",
      "   macro avg       0.83      0.79      0.80       239\n",
      "weighted avg       0.83      0.81      0.80       239\n",
      "\n"
     ]
    }
   ],
   "source": [
    "svc = SVC()\n",
    "svc.fit(x_train,y_train)\n",
    "predsvc = svc.predict(x_test)\n",
    "\n",
    "print(accuracy_score(y_test, predsvc))\n",
    "print(confusion_matrix(y_test, predsvc))\n",
    "print(classification_report(y_test,predsvc))\n"
   ]
  },
  {
   "cell_type": "code",
   "execution_count": 27,
   "id": "be275ad9",
   "metadata": {},
   "outputs": [
    {
     "data": {
      "text/plain": [
       "Text(0.5, 1.0, 'Confusion Matrix for Support Vector Machine Classifier')"
      ]
     },
     "execution_count": 27,
     "metadata": {},
     "output_type": "execute_result"
    },
    {
     "data": {
      "image/png": "[encoded data removed]",
      "text/plain": [
       "<Figure size 504x504 with 2 Axes>"
      ]
     },
     "metadata": {
      "needs_background": "light"
     },
     "output_type": "display_data"
    }
   ],
   "source": [
    "cm = confusion_matrix(y_test,predsvc)\n",
    "\n",
    "x_axis_labels = [\"yes\",\"No\"]\n",
    "y_axis_labels = [\"Yes\",\"No\"]\n",
    "\n",
    "f , ax = plt.subplots(figsize=(7,7))\n",
    "sns.heatmap(cm, annot = True,linewidths=.2, linecolor=\"black\", fmt = \".0f\", ax=ax,  \n",
    "xticklabels=x_axis_labels,\n",
    "yticklabels=y_axis_labels)\n",
    "\n",
    "plt.xlabel(\"PREDICTED LABEL\")\n",
    "plt.ylabel(\"TRUE LABEL\")\n",
    "plt.title('Confusion Matrix for Support Vector Machine Classifier')\n"
   ]
  },
  {
   "cell_type": "markdown",
   "id": "7faa4543",
   "metadata": {},
   "source": [
    "True Positive-69,True Negative-124,False Positive-39,False Negative-7"
   ]
  },
  {
   "cell_type": "markdown",
   "id": "fb7aa9c3",
   "metadata": {},
   "source": [
    "# DecisionTreeClassifier"
   ]
  },
  {
   "cell_type": "code",
   "execution_count": 28,
   "id": "0c2854e3",
   "metadata": {},
   "outputs": [
    {
     "name": "stdout",
     "output_type": "stream",
     "text": [
      "0.7698744769874477\n",
      "[[88 20]\n",
      " [35 96]]\n",
      "              precision    recall  f1-score   support\n",
      "\n",
      "           0       0.72      0.81      0.76       108\n",
      "           1       0.83      0.73      0.78       131\n",
      "\n",
      "    accuracy                           0.77       239\n",
      "   macro avg       0.77      0.77      0.77       239\n",
      "weighted avg       0.78      0.77      0.77       239\n",
      "\n"
     ]
    }
   ],
   "source": [
    "dtc = DecisionTreeClassifier()\n",
    "dtc.fit(x_train,y_train)\n",
    "preddtc = dtc.predict(x_test)\n",
    "\n",
    "print(accuracy_score(y_test, preddtc))\n",
    "print(confusion_matrix(y_test, preddtc))\n",
    "print(classification_report(y_test,preddtc))\n"
   ]
  },
  {
   "cell_type": "code",
   "execution_count": 29,
   "id": "88763855",
   "metadata": {},
   "outputs": [
    {
     "data": {
      "text/plain": [
       "Text(0.5, 1.0, 'Confusion Matrix for Decision Tree Classifier')"
      ]
     },
     "execution_count": 29,
     "metadata": {},
     "output_type": "execute_result"
    },
    {
     "data": {
      "image/png": "[encoded data removed]",
      "text/plain": [
       "<Figure size 504x504 with 2 Axes>"
      ]
     },
     "metadata": {
      "needs_background": "light"
     },
     "output_type": "display_data"
    }
   ],
   "source": [
    "cm = confusion_matrix(y_test,preddtc)\n",
    "\n",
    "x_axis_labels = [\"yes\",\"No\"]\n",
    "y_axis_labels = [\"Yes\",\"No\"]\n",
    "\n",
    "f , ax = plt.subplots(figsize=(7,7))\n",
    "sns.heatmap(cm, annot = True,linewidths=.2, linecolor=\"black\", fmt = \".0f\", ax=ax,  \n",
    "xticklabels=x_axis_labels,\n",
    "yticklabels=y_axis_labels)\n",
    "\n",
    "plt.xlabel(\"PREDICTED LABEL\")\n",
    "plt.ylabel(\"TRUE LABEL\")\n",
    "plt.title('Confusion Matrix for Decision Tree Classifier')\n"
   ]
  },
  {
   "cell_type": "markdown",
   "id": "988dbf17",
   "metadata": {},
   "source": [
    "True Positive-88,True Negative-96,False Positive-20,False Negative-35"
   ]
  },
  {
   "cell_type": "markdown",
   "id": "8659ef44",
   "metadata": {},
   "source": [
    "# AdaBoostClassifier"
   ]
  },
  {
   "cell_type": "code",
   "execution_count": 30,
   "id": "ad46f3e4",
   "metadata": {},
   "outputs": [
    {
     "name": "stdout",
     "output_type": "stream",
     "text": [
      "0.7866108786610879\n",
      "[[ 75  33]\n",
      " [ 18 113]]\n",
      "              precision    recall  f1-score   support\n",
      "\n",
      "           0       0.81      0.69      0.75       108\n",
      "           1       0.77      0.86      0.82       131\n",
      "\n",
      "    accuracy                           0.79       239\n",
      "   macro avg       0.79      0.78      0.78       239\n",
      "weighted avg       0.79      0.79      0.78       239\n",
      "\n"
     ]
    }
   ],
   "source": [
    "adb = AdaBoostClassifier()\n",
    "adb.fit(x_train,y_train)\n",
    "predadb = adb.predict(x_test)\n",
    "\n",
    "print(accuracy_score(y_test, predadb))\n",
    "print(confusion_matrix(y_test, predadb))\n",
    "print(classification_report(y_test,predadb))\n"
   ]
  },
  {
   "cell_type": "code",
   "execution_count": 31,
   "id": "0948d525",
   "metadata": {},
   "outputs": [
    {
     "data": {
      "text/plain": [
       "Text(0.5, 1.0, 'Confusion Matrix for Ada Boost Classifier')"
      ]
     },
     "execution_count": 31,
     "metadata": {},
     "output_type": "execute_result"
    },
    {
     "data": {
      "image/png": "[encoded data removed]",
      "text/plain": [
       "<Figure size 504x504 with 2 Axes>"
      ]
     },
     "metadata": {
      "needs_background": "light"
     },
     "output_type": "display_data"
    }
   ],
   "source": [
    "cm = confusion_matrix(y_test,predadb)\n",
    "\n",
    "x_axis_labels = [\"yes\",\"No\"]\n",
    "y_axis_labels = [\"Yes\",\"No\"]\n",
    "\n",
    "f , ax = plt.subplots(figsize=(7,7))\n",
    "sns.heatmap(cm, annot = True,linewidths=.2, linecolor=\"black\", fmt = \".0f\", ax=ax,  \n",
    "xticklabels=x_axis_labels,\n",
    "yticklabels=y_axis_labels)\n",
    "\n",
    "plt.xlabel(\"PREDICTED LABEL\")\n",
    "plt.ylabel(\"TRUE LABEL\")\n",
    "plt.title('Confusion Matrix for Ada Boost Classifier')\n"
   ]
  },
  {
   "cell_type": "markdown",
   "id": "da72e9d4",
   "metadata": {},
   "source": [
    "True Positive-75,True Negative-113,False Positive-33,False Negative-18"
   ]
  },
  {
   "cell_type": "markdown",
   "id": "68746a2d",
   "metadata": {},
   "source": [
    "# RandomForestClassifier"
   ]
  },
  {
   "cell_type": "code",
   "execution_count": 32,
   "id": "864d83cb",
   "metadata": {},
   "outputs": [
    {
     "name": "stdout",
     "output_type": "stream",
     "text": [
      "0.8368200836820083\n",
      "[[ 87  21]\n",
      " [ 18 113]]\n",
      "              precision    recall  f1-score   support\n",
      "\n",
      "           0       0.83      0.81      0.82       108\n",
      "           1       0.84      0.86      0.85       131\n",
      "\n",
      "    accuracy                           0.84       239\n",
      "   macro avg       0.84      0.83      0.83       239\n",
      "weighted avg       0.84      0.84      0.84       239\n",
      "\n"
     ]
    }
   ],
   "source": [
    "rfc = RandomForestClassifier()\n",
    "rfc.fit(x_train,y_train)\n",
    "predrfc = rfc.predict(x_test)\n",
    "\n",
    "print(accuracy_score(y_test, predrfc))\n",
    "print(confusion_matrix(y_test, predrfc))\n",
    "print(classification_report(y_test,predrfc))\n"
   ]
  },
  {
   "cell_type": "code",
   "execution_count": 33,
   "id": "f79d5274",
   "metadata": {},
   "outputs": [
    {
     "data": {
      "text/plain": [
       "Text(0.5, 1.0, 'Confusion Matrix for Random Forest  Classifier')"
      ]
     },
     "execution_count": 33,
     "metadata": {},
     "output_type": "execute_result"
    },
    {
     "data": {
      "image/png": "[encoded data removed]",
      "text/plain": [
       "<Figure size 504x504 with 2 Axes>"
      ]
     },
     "metadata": {
      "needs_background": "light"
     },
     "output_type": "display_data"
    }
   ],
   "source": [
    "cm = confusion_matrix(y_test,predrfc)\n",
    "\n",
    "x_axis_labels = [\"yes\",\"No\"]\n",
    "y_axis_labels = [\"Yes\",\"No\"]\n",
    "\n",
    "f , ax = plt.subplots(figsize=(7,7))\n",
    "sns.heatmap(cm, annot = True,linewidths=.2, linecolor=\"black\", fmt = \".0f\", ax=ax,  \n",
    "xticklabels=x_axis_labels,\n",
    "yticklabels=y_axis_labels)\n",
    "\n",
    "plt.xlabel(\"PREDICTED LABEL\")\n",
    "plt.ylabel(\"TRUE LABEL\")\n",
    "plt.title('Confusion Matrix for Random Forest  Classifier')\n"
   ]
  },
  {
   "cell_type": "markdown",
   "id": "657bfcaa",
   "metadata": {},
   "source": [
    "True Positive-87,True Negative-113,False Positive-21,False Negative-18"
   ]
  },
  {
   "cell_type": "markdown",
   "id": "b4ab41f7",
   "metadata": {},
   "source": [
    "# LogisticRegression"
   ]
  },
  {
   "cell_type": "code",
   "execution_count": 34,
   "id": "d3fde427",
   "metadata": {},
   "outputs": [
    {
     "name": "stdout",
     "output_type": "stream",
     "text": [
      "0.8284518828451883\n",
      "[[ 75  33]\n",
      " [  8 123]]\n",
      "              precision    recall  f1-score   support\n",
      "\n",
      "           0       0.90      0.69      0.79       108\n",
      "           1       0.79      0.94      0.86       131\n",
      "\n",
      "    accuracy                           0.83       239\n",
      "   macro avg       0.85      0.82      0.82       239\n",
      "weighted avg       0.84      0.83      0.82       239\n",
      "\n"
     ]
    }
   ],
   "source": [
    "lgr = LogisticRegression()\n",
    "lgr.fit(x_train,y_train)\n",
    "predlgr = lgr.predict(x_test)\n",
    "\n",
    "print(accuracy_score(y_test, predlgr))\n",
    "print(confusion_matrix(y_test, predlgr))\n",
    "print(classification_report(y_test,predlgr))\n"
   ]
  },
  {
   "cell_type": "code",
   "execution_count": 35,
   "id": "8e3a2206",
   "metadata": {},
   "outputs": [
    {
     "data": {
      "text/plain": [
       "Text(0.5, 1.0, 'Confusion Matrix for Logistic Regression Classifier')"
      ]
     },
     "execution_count": 35,
     "metadata": {},
     "output_type": "execute_result"
    },
    {
     "data": {
      "image/png": "[encoded data removed]",
      "text/plain": [
       "<Figure size 504x504 with 2 Axes>"
      ]
     },
     "metadata": {
      "needs_background": "light"
     },
     "output_type": "display_data"
    }
   ],
   "source": [
    "cm = confusion_matrix(y_test,predlgr)\n",
    "\n",
    "x_axis_labels = [\"yes\",\"No\"]\n",
    "y_axis_labels = [\"Yes\",\"No\"]\n",
    "\n",
    "f , ax = plt.subplots(figsize=(7,7))\n",
    "sns.heatmap(cm, annot = True,linewidths=.2, linecolor=\"black\", fmt = \".0f\", ax=ax,  \n",
    "xticklabels=x_axis_labels,\n",
    "yticklabels=y_axis_labels)\n",
    "\n",
    "plt.xlabel(\"PREDICTED LABEL\")\n",
    "plt.ylabel(\"TRUE LABEL\")\n",
    "plt.title('Confusion Matrix for Logistic Regression Classifier')\n"
   ]
  },
  {
   "cell_type": "markdown",
   "id": "8e284c5a",
   "metadata": {},
   "source": [
    "True Positive-75,True Negative-123,False Positive-33,False Negative-8"
   ]
  },
  {
   "cell_type": "markdown",
   "id": "4d8cc826",
   "metadata": {},
   "source": [
    "# Cross Validation"
   ]
  },
  {
   "cell_type": "code",
   "execution_count": 36,
   "id": "2c454026",
   "metadata": {},
   "outputs": [
    {
     "name": "stdout",
     "output_type": "stream",
     "text": [
      "Cross Validation of LogisticRegression model  0.7707112970711296\n"
     ]
    }
   ],
   "source": [
    "from sklearn.model_selection import ShuffleSplit\n",
    "n_samples = x.shape[0]\n",
    "cv = ShuffleSplit(n_splits=5, test_size=0.30, random_state=maxRS)\n",
    "cvs = cross_val_score(lgr, x, y, cv=cv)\n",
    "print(\"Cross Validation of LogisticRegression model \",cvs.mean())\n"
   ]
  },
  {
   "cell_type": "code",
   "execution_count": 37,
   "id": "e10be957",
   "metadata": {},
   "outputs": [
    {
     "name": "stdout",
     "output_type": "stream",
     "text": [
      "Cross Validation of KNeighbors Classifier model  0.7548117154811715\n"
     ]
    }
   ],
   "source": [
    "from sklearn.model_selection import ShuffleSplit\n",
    "n_samples = x.shape[0]\n",
    "cv = ShuffleSplit(n_splits=5, test_size=0.30, random_state=maxRS)\n",
    "cvs = cross_val_score(knc, x, y, cv=cv)\n",
    "print(\"Cross Validation of KNeighbors Classifier model \",cvs.mean())\n"
   ]
  },
  {
   "cell_type": "code",
   "execution_count": 38,
   "id": "d85cec8f",
   "metadata": {},
   "outputs": [
    {
     "name": "stdout",
     "output_type": "stream",
     "text": [
      "Cross Validation of DecisionTree Classifier model  0.7564853556485355\n"
     ]
    }
   ],
   "source": [
    "from sklearn.model_selection import ShuffleSplit\n",
    "n_samples = x.shape[0]\n",
    "cv = ShuffleSplit(n_splits=5, test_size=0.30, random_state=maxRS)\n",
    "cvs = cross_val_score(dtc, x, y, cv=cv)\n",
    "print(\"Cross Validation of DecisionTree Classifier model \",cvs.mean())\n"
   ]
  },
  {
   "cell_type": "code",
   "execution_count": 39,
   "id": "d5331f27",
   "metadata": {},
   "outputs": [
    {
     "name": "stdout",
     "output_type": "stream",
     "text": [
      "Cross Validation of Support Vector Machine Classifier model  0.7765690376569038\n"
     ]
    }
   ],
   "source": [
    "from sklearn.model_selection import ShuffleSplit\n",
    "n_samples = x.shape[0]\n",
    "cv = ShuffleSplit(n_splits=5, test_size=0.30, random_state=maxRS)\n",
    "cvs = cross_val_score(svc, x, y, cv=cv)\n",
    "print(\"Cross Validation of Support Vector Machine Classifier model \",cvs.mean())\n"
   ]
  },
  {
   "cell_type": "code",
   "execution_count": 40,
   "id": "22701bce",
   "metadata": {},
   "outputs": [
    {
     "name": "stdout",
     "output_type": "stream",
     "text": [
      "Cross Validation of Random Forest Classifier model  0.8066945606694562\n"
     ]
    }
   ],
   "source": [
    "from sklearn.model_selection import ShuffleSplit\n",
    "n_samples = x.shape[0]\n",
    "cv = ShuffleSplit(n_splits=5, test_size=0.30, random_state=maxRS)\n",
    "cvs = cross_val_score(rfc, x, y, cv=cv)\n",
    "print(\"Cross Validation of Random Forest Classifier model \",cvs.mean())\n"
   ]
  },
  {
   "cell_type": "code",
   "execution_count": 41,
   "id": "e05aff1f",
   "metadata": {},
   "outputs": [
    {
     "name": "stdout",
     "output_type": "stream",
     "text": [
      "Cross Validation of Ada Boost Classifier model  0.7506276150627615\n"
     ]
    }
   ],
   "source": [
    "from sklearn.model_selection import ShuffleSplit\n",
    "n_samples = x.shape[0]\n",
    "cv = ShuffleSplit(n_splits=5, test_size=0.30, random_state=maxRS)\n",
    "cvs = cross_val_score(adb, x, y, cv=cv)\n",
    "print(\"Cross Validation of Ada Boost Classifier model \",cvs.mean())\n"
   ]
  },
  {
   "cell_type": "markdown",
   "id": "23d13391",
   "metadata": {},
   "source": [
    "Cross validation score  is highest for Random Forest,So will do hyper parameter tuning for Random Forest."
   ]
  },
  {
   "cell_type": "markdown",
   "id": "3f732e68",
   "metadata": {},
   "source": [
    "# HyperParameter Tuning"
   ]
  },
  {
   "cell_type": "code",
   "execution_count": 42,
   "id": "a52410f3",
   "metadata": {},
   "outputs": [
    {
     "data": {
      "text/plain": [
       "{'criterion': 'gini',\n",
       " 'max_depth': 8,\n",
       " 'max_features': 'sqrt',\n",
       " 'n_estimators': 100}"
      ]
     },
     "execution_count": 42,
     "metadata": {},
     "output_type": "execute_result"
    }
   ],
   "source": [
    "from sklearn.model_selection import GridSearchCV\n",
    "\n",
    "x_train,x_test,y_train,y_test = train_test_split(x,y,random_state = maxRS,test_size = 0.30)\n",
    "rfc = RandomForestClassifier()\n",
    "parameters={'n_estimators' : [100,200],\n",
    "            'criterion':['gini','entropy'],\n",
    "            'max_depth':range(2,10),\n",
    "            'max_features':[\"auto\",\"sqrt\",\"log2\"],\n",
    "            }\n",
    "\n",
    "\n",
    "    \n",
    "gridsearch=GridSearchCV(rfc,parameters)\n",
    "gridsearch.fit(x_train,y_train)\n",
    "gridsearch.best_params_\n"
   ]
  },
  {
   "cell_type": "code",
   "execution_count": 43,
   "id": "cb1c8234",
   "metadata": {},
   "outputs": [
    {
     "name": "stdout",
     "output_type": "stream",
     "text": [
      "Accuracy Score : 83.68200836820083\n",
      "[[ 78  30]\n",
      " [  9 122]]\n",
      "              precision    recall  f1-score   support\n",
      "\n",
      "           0       0.90      0.72      0.80       108\n",
      "           1       0.80      0.93      0.86       131\n",
      "\n",
      "    accuracy                           0.84       239\n",
      "   macro avg       0.85      0.83      0.83       239\n",
      "weighted avg       0.85      0.84      0.83       239\n",
      "\n"
     ]
    }
   ],
   "source": [
    "## Providing Best parameter to model:-\n",
    "rfc = RandomForestClassifier(criterion='gini',n_estimators=100,max_features='sqrt',max_depth=8)\n",
    "rfc.fit(x_train,y_train)\n",
    "predrfc = rfc.predict(x_test)\n",
    "score = accuracy_score(y_test,predrfc)\n",
    "print(\"Accuracy Score :\",score*100)\n",
    "print(confusion_matrix(y_test, predrfc))\n",
    "print(classification_report(y_test,predrfc))\n"
   ]
  },
  {
   "cell_type": "markdown",
   "id": "a587a219",
   "metadata": {},
   "source": [
    "# Plotting roc_auc_curve"
   ]
  },
  {
   "cell_type": "code",
   "execution_count": 44,
   "id": "03343119",
   "metadata": {},
   "outputs": [
    {
     "data": {
      "image/png": "[encoded data removed]",
      "text/plain": [
       "<Figure size 432x288 with 1 Axes>"
      ]
     },
     "metadata": {
      "needs_background": "light"
     },
     "output_type": "display_data"
    }
   ],
   "source": [
    "disp =plot_roc_curve(dtc,x_test,y_test)   \n",
    "plot_roc_curve(lgr,x_test,y_test,ax = disp.ax_)\n",
    "plot_roc_curve(rfc,x_test,y_test,ax = disp.ax_)\n",
    "plot_roc_curve(knc,x_test,y_test,ax = disp.ax_)\n",
    "plot_roc_curve(svc,x_test,y_test,ax = disp.ax_)\n",
    "plot_roc_curve(adb,x_test,y_test,ax = disp.ax_)\n",
    "\n",
    "plt.legend(prop={'size': 11},loc = 'lower right')\n",
    "plt.show()\n"
   ]
  },
  {
   "cell_type": "markdown",
   "id": "82a3fd8b",
   "metadata": {},
   "source": [
    "Area under curve is 91 percent"
   ]
  },
  {
   "cell_type": "markdown",
   "id": "f1566cda",
   "metadata": {},
   "source": [
    "# Saving the Model:-"
   ]
  },
  {
   "cell_type": "code",
   "execution_count": 45,
   "id": "f37f5613",
   "metadata": {},
   "outputs": [],
   "source": [
    "import pickle\n",
    "filename ='loan_status.pickle'\n",
    "pickle.dump(rfc,open(filename,'wb'))"
   ]
  },
  {
   "cell_type": "markdown",
   "id": "99df151a",
   "metadata": {},
   "source": [
    "# Conclusion"
   ]
  },
  {
   "cell_type": "code",
   "execution_count": 46,
   "id": "f9a62d2d",
   "metadata": {},
   "outputs": [
    {
     "data": {
      "text/html": [
       "<div>\n",
       "<style scoped>\n",
       "    .dataframe tbody tr th:only-of-type {\n",
       "        vertical-align: middle;\n",
       "    }\n",
       "\n",
       "    .dataframe tbody tr th {\n",
       "        vertical-align: top;\n",
       "    }\n",
       "\n",
       "    .dataframe thead th {\n",
       "        text-align: right;\n",
       "    }\n",
       "</style>\n",
       "<table border=\"1\" class=\"dataframe\">\n",
       "  <thead>\n",
       "    <tr style=\"text-align: right;\">\n",
       "      <th></th>\n",
       "      <th>Original</th>\n",
       "      <th>Predicted</th>\n",
       "    </tr>\n",
       "  </thead>\n",
       "  <tbody>\n",
       "    <tr>\n",
       "      <th>0</th>\n",
       "      <td>0</td>\n",
       "      <td>0</td>\n",
       "    </tr>\n",
       "    <tr>\n",
       "      <th>1</th>\n",
       "      <td>0</td>\n",
       "      <td>1</td>\n",
       "    </tr>\n",
       "    <tr>\n",
       "      <th>2</th>\n",
       "      <td>1</td>\n",
       "      <td>1</td>\n",
       "    </tr>\n",
       "    <tr>\n",
       "      <th>3</th>\n",
       "      <td>1</td>\n",
       "      <td>1</td>\n",
       "    </tr>\n",
       "    <tr>\n",
       "      <th>4</th>\n",
       "      <td>0</td>\n",
       "      <td>0</td>\n",
       "    </tr>\n",
       "    <tr>\n",
       "      <th>...</th>\n",
       "      <td>...</td>\n",
       "      <td>...</td>\n",
       "    </tr>\n",
       "    <tr>\n",
       "      <th>234</th>\n",
       "      <td>1</td>\n",
       "      <td>1</td>\n",
       "    </tr>\n",
       "    <tr>\n",
       "      <th>235</th>\n",
       "      <td>0</td>\n",
       "      <td>1</td>\n",
       "    </tr>\n",
       "    <tr>\n",
       "      <th>236</th>\n",
       "      <td>1</td>\n",
       "      <td>1</td>\n",
       "    </tr>\n",
       "    <tr>\n",
       "      <th>237</th>\n",
       "      <td>0</td>\n",
       "      <td>1</td>\n",
       "    </tr>\n",
       "    <tr>\n",
       "      <th>238</th>\n",
       "      <td>1</td>\n",
       "      <td>0</td>\n",
       "    </tr>\n",
       "  </tbody>\n",
       "</table>\n",
       "<p>239 rows × 2 columns</p>\n",
       "</div>"
      ],
      "text/plain": [
       "     Original  Predicted\n",
       "0           0          0\n",
       "1           0          1\n",
       "2           1          1\n",
       "3           1          1\n",
       "4           0          0\n",
       "..        ...        ...\n",
       "234         1          1\n",
       "235         0          1\n",
       "236         1          1\n",
       "237         0          1\n",
       "238         1          0\n",
       "\n",
       "[239 rows x 2 columns]"
      ]
     },
     "execution_count": 46,
     "metadata": {},
     "output_type": "execute_result"
    }
   ],
   "source": [
    "a = np.array(y_test)\n",
    "predicted = np.array(rfc.predict(x_test))\n",
    "df_new = pd.DataFrame({\"Original\":a,\"Predicted\":predicted},index= range(len(a)))\n",
    "df_new\n"
   ]
  },
  {
   "cell_type": "code",
   "execution_count": null,
   "id": "bd30413f",
   "metadata": {},
   "outputs": [],
   "source": []
  }
 ],
 "metadata": {
  "kernelspec": {
   "display_name": "Python 3",
   "language": "python",
   "name": "python3"
  },
  "language_info": {
   "codemirror_mode": {
    "name": "ipython",
    "version": 3
   },
   "file_extension": ".py",
   "mimetype": "text/x-python",
   "name": "python",
   "nbconvert_exporter": "python",
   "pygments_lexer": "ipython3",
   "version": "3.8.8"
  }
 },
 "nbformat": 4,
 "nbformat_minor": 5
}
